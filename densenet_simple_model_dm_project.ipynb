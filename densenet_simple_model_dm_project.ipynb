{
  "nbformat": 4,
  "nbformat_minor": 0,
  "metadata": {
    "colab": {
      "provenance": [],
      "include_colab_link": true
    },
    "kernelspec": {
      "name": "python3",
      "display_name": "Python 3"
    },
    "language_info": {
      "name": "python"
    },
    "widgets": {
      "application/vnd.jupyter.widget-state+json": {
        "dde9720e3ca64948bf7d4be4a39313e0": {
          "model_module": "@jupyter-widgets/controls",
          "model_name": "HBoxModel",
          "model_module_version": "1.5.0",
          "state": {
            "_dom_classes": [],
            "_model_module": "@jupyter-widgets/controls",
            "_model_module_version": "1.5.0",
            "_model_name": "HBoxModel",
            "_view_count": null,
            "_view_module": "@jupyter-widgets/controls",
            "_view_module_version": "1.5.0",
            "_view_name": "HBoxView",
            "box_style": "",
            "children": [
              "IPY_MODEL_805785585a2c481cbfc6c4444128f12e",
              "IPY_MODEL_8d5a2e60c88f4134adb028ec26cdf985",
              "IPY_MODEL_8479e15ac41e4529885afdd1f1f8c821"
            ],
            "layout": "IPY_MODEL_ad168a752ef34452b79dd28dfd5b3615"
          }
        },
        "805785585a2c481cbfc6c4444128f12e": {
          "model_module": "@jupyter-widgets/controls",
          "model_name": "HTMLModel",
          "model_module_version": "1.5.0",
          "state": {
            "_dom_classes": [],
            "_model_module": "@jupyter-widgets/controls",
            "_model_module_version": "1.5.0",
            "_model_name": "HTMLModel",
            "_view_count": null,
            "_view_module": "@jupyter-widgets/controls",
            "_view_module_version": "1.5.0",
            "_view_name": "HTMLView",
            "description": "",
            "description_tooltip": null,
            "layout": "IPY_MODEL_eabafd630a334e399323882d153c2ec4",
            "placeholder": "​",
            "style": "IPY_MODEL_7701efaec7bc4458b51c30186449c829",
            "value": "Downloading builder script: "
          }
        },
        "8d5a2e60c88f4134adb028ec26cdf985": {
          "model_module": "@jupyter-widgets/controls",
          "model_name": "FloatProgressModel",
          "model_module_version": "1.5.0",
          "state": {
            "_dom_classes": [],
            "_model_module": "@jupyter-widgets/controls",
            "_model_module_version": "1.5.0",
            "_model_name": "FloatProgressModel",
            "_view_count": null,
            "_view_module": "@jupyter-widgets/controls",
            "_view_module_version": "1.5.0",
            "_view_name": "ProgressView",
            "bar_style": "success",
            "description": "",
            "description_tooltip": null,
            "layout": "IPY_MODEL_fc09c017dfa74b89b68965c453fd7899",
            "max": 2169,
            "min": 0,
            "orientation": "horizontal",
            "style": "IPY_MODEL_4bd732c10d9b425898e0500b2f929feb",
            "value": 2169
          }
        },
        "8479e15ac41e4529885afdd1f1f8c821": {
          "model_module": "@jupyter-widgets/controls",
          "model_name": "HTMLModel",
          "model_module_version": "1.5.0",
          "state": {
            "_dom_classes": [],
            "_model_module": "@jupyter-widgets/controls",
            "_model_module_version": "1.5.0",
            "_model_name": "HTMLModel",
            "_view_count": null,
            "_view_module": "@jupyter-widgets/controls",
            "_view_module_version": "1.5.0",
            "_view_name": "HTMLView",
            "description": "",
            "description_tooltip": null,
            "layout": "IPY_MODEL_2db9e01eb8b9416180b6153761630684",
            "placeholder": "​",
            "style": "IPY_MODEL_78d7f6d7beb64bcb83b552fda817f316",
            "value": " 5.65k/? [00:00&lt;00:00, 114kB/s]"
          }
        },
        "ad168a752ef34452b79dd28dfd5b3615": {
          "model_module": "@jupyter-widgets/base",
          "model_name": "LayoutModel",
          "model_module_version": "1.2.0",
          "state": {
            "_model_module": "@jupyter-widgets/base",
            "_model_module_version": "1.2.0",
            "_model_name": "LayoutModel",
            "_view_count": null,
            "_view_module": "@jupyter-widgets/base",
            "_view_module_version": "1.2.0",
            "_view_name": "LayoutView",
            "align_content": null,
            "align_items": null,
            "align_self": null,
            "border": null,
            "bottom": null,
            "display": null,
            "flex": null,
            "flex_flow": null,
            "grid_area": null,
            "grid_auto_columns": null,
            "grid_auto_flow": null,
            "grid_auto_rows": null,
            "grid_column": null,
            "grid_gap": null,
            "grid_row": null,
            "grid_template_areas": null,
            "grid_template_columns": null,
            "grid_template_rows": null,
            "height": null,
            "justify_content": null,
            "justify_items": null,
            "left": null,
            "margin": null,
            "max_height": null,
            "max_width": null,
            "min_height": null,
            "min_width": null,
            "object_fit": null,
            "object_position": null,
            "order": null,
            "overflow": null,
            "overflow_x": null,
            "overflow_y": null,
            "padding": null,
            "right": null,
            "top": null,
            "visibility": null,
            "width": null
          }
        },
        "eabafd630a334e399323882d153c2ec4": {
          "model_module": "@jupyter-widgets/base",
          "model_name": "LayoutModel",
          "model_module_version": "1.2.0",
          "state": {
            "_model_module": "@jupyter-widgets/base",
            "_model_module_version": "1.2.0",
            "_model_name": "LayoutModel",
            "_view_count": null,
            "_view_module": "@jupyter-widgets/base",
            "_view_module_version": "1.2.0",
            "_view_name": "LayoutView",
            "align_content": null,
            "align_items": null,
            "align_self": null,
            "border": null,
            "bottom": null,
            "display": null,
            "flex": null,
            "flex_flow": null,
            "grid_area": null,
            "grid_auto_columns": null,
            "grid_auto_flow": null,
            "grid_auto_rows": null,
            "grid_column": null,
            "grid_gap": null,
            "grid_row": null,
            "grid_template_areas": null,
            "grid_template_columns": null,
            "grid_template_rows": null,
            "height": null,
            "justify_content": null,
            "justify_items": null,
            "left": null,
            "margin": null,
            "max_height": null,
            "max_width": null,
            "min_height": null,
            "min_width": null,
            "object_fit": null,
            "object_position": null,
            "order": null,
            "overflow": null,
            "overflow_x": null,
            "overflow_y": null,
            "padding": null,
            "right": null,
            "top": null,
            "visibility": null,
            "width": null
          }
        },
        "7701efaec7bc4458b51c30186449c829": {
          "model_module": "@jupyter-widgets/controls",
          "model_name": "DescriptionStyleModel",
          "model_module_version": "1.5.0",
          "state": {
            "_model_module": "@jupyter-widgets/controls",
            "_model_module_version": "1.5.0",
            "_model_name": "DescriptionStyleModel",
            "_view_count": null,
            "_view_module": "@jupyter-widgets/base",
            "_view_module_version": "1.2.0",
            "_view_name": "StyleView",
            "description_width": ""
          }
        },
        "fc09c017dfa74b89b68965c453fd7899": {
          "model_module": "@jupyter-widgets/base",
          "model_name": "LayoutModel",
          "model_module_version": "1.2.0",
          "state": {
            "_model_module": "@jupyter-widgets/base",
            "_model_module_version": "1.2.0",
            "_model_name": "LayoutModel",
            "_view_count": null,
            "_view_module": "@jupyter-widgets/base",
            "_view_module_version": "1.2.0",
            "_view_name": "LayoutView",
            "align_content": null,
            "align_items": null,
            "align_self": null,
            "border": null,
            "bottom": null,
            "display": null,
            "flex": null,
            "flex_flow": null,
            "grid_area": null,
            "grid_auto_columns": null,
            "grid_auto_flow": null,
            "grid_auto_rows": null,
            "grid_column": null,
            "grid_gap": null,
            "grid_row": null,
            "grid_template_areas": null,
            "grid_template_columns": null,
            "grid_template_rows": null,
            "height": null,
            "justify_content": null,
            "justify_items": null,
            "left": null,
            "margin": null,
            "max_height": null,
            "max_width": null,
            "min_height": null,
            "min_width": null,
            "object_fit": null,
            "object_position": null,
            "order": null,
            "overflow": null,
            "overflow_x": null,
            "overflow_y": null,
            "padding": null,
            "right": null,
            "top": null,
            "visibility": null,
            "width": null
          }
        },
        "4bd732c10d9b425898e0500b2f929feb": {
          "model_module": "@jupyter-widgets/controls",
          "model_name": "ProgressStyleModel",
          "model_module_version": "1.5.0",
          "state": {
            "_model_module": "@jupyter-widgets/controls",
            "_model_module_version": "1.5.0",
            "_model_name": "ProgressStyleModel",
            "_view_count": null,
            "_view_module": "@jupyter-widgets/base",
            "_view_module_version": "1.2.0",
            "_view_name": "StyleView",
            "bar_color": null,
            "description_width": ""
          }
        },
        "2db9e01eb8b9416180b6153761630684": {
          "model_module": "@jupyter-widgets/base",
          "model_name": "LayoutModel",
          "model_module_version": "1.2.0",
          "state": {
            "_model_module": "@jupyter-widgets/base",
            "_model_module_version": "1.2.0",
            "_model_name": "LayoutModel",
            "_view_count": null,
            "_view_module": "@jupyter-widgets/base",
            "_view_module_version": "1.2.0",
            "_view_name": "LayoutView",
            "align_content": null,
            "align_items": null,
            "align_self": null,
            "border": null,
            "bottom": null,
            "display": null,
            "flex": null,
            "flex_flow": null,
            "grid_area": null,
            "grid_auto_columns": null,
            "grid_auto_flow": null,
            "grid_auto_rows": null,
            "grid_column": null,
            "grid_gap": null,
            "grid_row": null,
            "grid_template_areas": null,
            "grid_template_columns": null,
            "grid_template_rows": null,
            "height": null,
            "justify_content": null,
            "justify_items": null,
            "left": null,
            "margin": null,
            "max_height": null,
            "max_width": null,
            "min_height": null,
            "min_width": null,
            "object_fit": null,
            "object_position": null,
            "order": null,
            "overflow": null,
            "overflow_x": null,
            "overflow_y": null,
            "padding": null,
            "right": null,
            "top": null,
            "visibility": null,
            "width": null
          }
        },
        "78d7f6d7beb64bcb83b552fda817f316": {
          "model_module": "@jupyter-widgets/controls",
          "model_name": "DescriptionStyleModel",
          "model_module_version": "1.5.0",
          "state": {
            "_model_module": "@jupyter-widgets/controls",
            "_model_module_version": "1.5.0",
            "_model_name": "DescriptionStyleModel",
            "_view_count": null,
            "_view_module": "@jupyter-widgets/base",
            "_view_module_version": "1.2.0",
            "_view_name": "StyleView",
            "description_width": ""
          }
        },
        "e56888a6eedb41e4bae9cd74830298ec": {
          "model_module": "@jupyter-widgets/controls",
          "model_name": "HBoxModel",
          "model_module_version": "1.5.0",
          "state": {
            "_dom_classes": [],
            "_model_module": "@jupyter-widgets/controls",
            "_model_module_version": "1.5.0",
            "_model_name": "HBoxModel",
            "_view_count": null,
            "_view_module": "@jupyter-widgets/controls",
            "_view_module_version": "1.5.0",
            "_view_name": "HBoxView",
            "box_style": "",
            "children": [
              "IPY_MODEL_7bc60a3303064e06bb272f7d22c76f65",
              "IPY_MODEL_681451c483d8485a8285f3071200634b",
              "IPY_MODEL_5af977350c4f4a92b92e70a744a1c3c2"
            ],
            "layout": "IPY_MODEL_9da67594aad34053a2856575759382f2"
          }
        },
        "7bc60a3303064e06bb272f7d22c76f65": {
          "model_module": "@jupyter-widgets/controls",
          "model_name": "HTMLModel",
          "model_module_version": "1.5.0",
          "state": {
            "_dom_classes": [],
            "_model_module": "@jupyter-widgets/controls",
            "_model_module_version": "1.5.0",
            "_model_name": "HTMLModel",
            "_view_count": null,
            "_view_module": "@jupyter-widgets/controls",
            "_view_module_version": "1.5.0",
            "_view_name": "HTMLView",
            "description": "",
            "description_tooltip": null,
            "layout": "IPY_MODEL_295d6402becd4834a05331bf7fab8ddc",
            "placeholder": "​",
            "style": "IPY_MODEL_c1f90b0a43854653bac9d180d62f2342",
            "value": "Downloading builder script: "
          }
        },
        "681451c483d8485a8285f3071200634b": {
          "model_module": "@jupyter-widgets/controls",
          "model_name": "FloatProgressModel",
          "model_module_version": "1.5.0",
          "state": {
            "_dom_classes": [],
            "_model_module": "@jupyter-widgets/controls",
            "_model_module_version": "1.5.0",
            "_model_name": "FloatProgressModel",
            "_view_count": null,
            "_view_module": "@jupyter-widgets/controls",
            "_view_module_version": "1.5.0",
            "_view_name": "ProgressView",
            "bar_style": "success",
            "description": "",
            "description_tooltip": null,
            "layout": "IPY_MODEL_4be90b84a5cc45988f0248e1ee3bf2ad",
            "max": 2849,
            "min": 0,
            "orientation": "horizontal",
            "style": "IPY_MODEL_93ac6a00a0e145549740a048b87393d3",
            "value": 2849
          }
        },
        "5af977350c4f4a92b92e70a744a1c3c2": {
          "model_module": "@jupyter-widgets/controls",
          "model_name": "HTMLModel",
          "model_module_version": "1.5.0",
          "state": {
            "_dom_classes": [],
            "_model_module": "@jupyter-widgets/controls",
            "_model_module_version": "1.5.0",
            "_model_name": "HTMLModel",
            "_view_count": null,
            "_view_module": "@jupyter-widgets/controls",
            "_view_module_version": "1.5.0",
            "_view_name": "HTMLView",
            "description": "",
            "description_tooltip": null,
            "layout": "IPY_MODEL_24c3cdfa7e2646d599aae2bfe0237874",
            "placeholder": "​",
            "style": "IPY_MODEL_e30c62ff999f4a4680b69afdcad7d57b",
            "value": " 7.65k/? [00:00&lt;00:00, 220kB/s]"
          }
        },
        "9da67594aad34053a2856575759382f2": {
          "model_module": "@jupyter-widgets/base",
          "model_name": "LayoutModel",
          "model_module_version": "1.2.0",
          "state": {
            "_model_module": "@jupyter-widgets/base",
            "_model_module_version": "1.2.0",
            "_model_name": "LayoutModel",
            "_view_count": null,
            "_view_module": "@jupyter-widgets/base",
            "_view_module_version": "1.2.0",
            "_view_name": "LayoutView",
            "align_content": null,
            "align_items": null,
            "align_self": null,
            "border": null,
            "bottom": null,
            "display": null,
            "flex": null,
            "flex_flow": null,
            "grid_area": null,
            "grid_auto_columns": null,
            "grid_auto_flow": null,
            "grid_auto_rows": null,
            "grid_column": null,
            "grid_gap": null,
            "grid_row": null,
            "grid_template_areas": null,
            "grid_template_columns": null,
            "grid_template_rows": null,
            "height": null,
            "justify_content": null,
            "justify_items": null,
            "left": null,
            "margin": null,
            "max_height": null,
            "max_width": null,
            "min_height": null,
            "min_width": null,
            "object_fit": null,
            "object_position": null,
            "order": null,
            "overflow": null,
            "overflow_x": null,
            "overflow_y": null,
            "padding": null,
            "right": null,
            "top": null,
            "visibility": null,
            "width": null
          }
        },
        "295d6402becd4834a05331bf7fab8ddc": {
          "model_module": "@jupyter-widgets/base",
          "model_name": "LayoutModel",
          "model_module_version": "1.2.0",
          "state": {
            "_model_module": "@jupyter-widgets/base",
            "_model_module_version": "1.2.0",
            "_model_name": "LayoutModel",
            "_view_count": null,
            "_view_module": "@jupyter-widgets/base",
            "_view_module_version": "1.2.0",
            "_view_name": "LayoutView",
            "align_content": null,
            "align_items": null,
            "align_self": null,
            "border": null,
            "bottom": null,
            "display": null,
            "flex": null,
            "flex_flow": null,
            "grid_area": null,
            "grid_auto_columns": null,
            "grid_auto_flow": null,
            "grid_auto_rows": null,
            "grid_column": null,
            "grid_gap": null,
            "grid_row": null,
            "grid_template_areas": null,
            "grid_template_columns": null,
            "grid_template_rows": null,
            "height": null,
            "justify_content": null,
            "justify_items": null,
            "left": null,
            "margin": null,
            "max_height": null,
            "max_width": null,
            "min_height": null,
            "min_width": null,
            "object_fit": null,
            "object_position": null,
            "order": null,
            "overflow": null,
            "overflow_x": null,
            "overflow_y": null,
            "padding": null,
            "right": null,
            "top": null,
            "visibility": null,
            "width": null
          }
        },
        "c1f90b0a43854653bac9d180d62f2342": {
          "model_module": "@jupyter-widgets/controls",
          "model_name": "DescriptionStyleModel",
          "model_module_version": "1.5.0",
          "state": {
            "_model_module": "@jupyter-widgets/controls",
            "_model_module_version": "1.5.0",
            "_model_name": "DescriptionStyleModel",
            "_view_count": null,
            "_view_module": "@jupyter-widgets/base",
            "_view_module_version": "1.2.0",
            "_view_name": "StyleView",
            "description_width": ""
          }
        },
        "4be90b84a5cc45988f0248e1ee3bf2ad": {
          "model_module": "@jupyter-widgets/base",
          "model_name": "LayoutModel",
          "model_module_version": "1.2.0",
          "state": {
            "_model_module": "@jupyter-widgets/base",
            "_model_module_version": "1.2.0",
            "_model_name": "LayoutModel",
            "_view_count": null,
            "_view_module": "@jupyter-widgets/base",
            "_view_module_version": "1.2.0",
            "_view_name": "LayoutView",
            "align_content": null,
            "align_items": null,
            "align_self": null,
            "border": null,
            "bottom": null,
            "display": null,
            "flex": null,
            "flex_flow": null,
            "grid_area": null,
            "grid_auto_columns": null,
            "grid_auto_flow": null,
            "grid_auto_rows": null,
            "grid_column": null,
            "grid_gap": null,
            "grid_row": null,
            "grid_template_areas": null,
            "grid_template_columns": null,
            "grid_template_rows": null,
            "height": null,
            "justify_content": null,
            "justify_items": null,
            "left": null,
            "margin": null,
            "max_height": null,
            "max_width": null,
            "min_height": null,
            "min_width": null,
            "object_fit": null,
            "object_position": null,
            "order": null,
            "overflow": null,
            "overflow_x": null,
            "overflow_y": null,
            "padding": null,
            "right": null,
            "top": null,
            "visibility": null,
            "width": null
          }
        },
        "93ac6a00a0e145549740a048b87393d3": {
          "model_module": "@jupyter-widgets/controls",
          "model_name": "ProgressStyleModel",
          "model_module_version": "1.5.0",
          "state": {
            "_model_module": "@jupyter-widgets/controls",
            "_model_module_version": "1.5.0",
            "_model_name": "ProgressStyleModel",
            "_view_count": null,
            "_view_module": "@jupyter-widgets/base",
            "_view_module_version": "1.2.0",
            "_view_name": "StyleView",
            "bar_color": null,
            "description_width": ""
          }
        },
        "24c3cdfa7e2646d599aae2bfe0237874": {
          "model_module": "@jupyter-widgets/base",
          "model_name": "LayoutModel",
          "model_module_version": "1.2.0",
          "state": {
            "_model_module": "@jupyter-widgets/base",
            "_model_module_version": "1.2.0",
            "_model_name": "LayoutModel",
            "_view_count": null,
            "_view_module": "@jupyter-widgets/base",
            "_view_module_version": "1.2.0",
            "_view_name": "LayoutView",
            "align_content": null,
            "align_items": null,
            "align_self": null,
            "border": null,
            "bottom": null,
            "display": null,
            "flex": null,
            "flex_flow": null,
            "grid_area": null,
            "grid_auto_columns": null,
            "grid_auto_flow": null,
            "grid_auto_rows": null,
            "grid_column": null,
            "grid_gap": null,
            "grid_row": null,
            "grid_template_areas": null,
            "grid_template_columns": null,
            "grid_template_rows": null,
            "height": null,
            "justify_content": null,
            "justify_items": null,
            "left": null,
            "margin": null,
            "max_height": null,
            "max_width": null,
            "min_height": null,
            "min_width": null,
            "object_fit": null,
            "object_position": null,
            "order": null,
            "overflow": null,
            "overflow_x": null,
            "overflow_y": null,
            "padding": null,
            "right": null,
            "top": null,
            "visibility": null,
            "width": null
          }
        },
        "e30c62ff999f4a4680b69afdcad7d57b": {
          "model_module": "@jupyter-widgets/controls",
          "model_name": "DescriptionStyleModel",
          "model_module_version": "1.5.0",
          "state": {
            "_model_module": "@jupyter-widgets/controls",
            "_model_module_version": "1.5.0",
            "_model_name": "DescriptionStyleModel",
            "_view_count": null,
            "_view_module": "@jupyter-widgets/base",
            "_view_module_version": "1.2.0",
            "_view_name": "StyleView",
            "description_width": ""
          }
        }
      }
    }
  },
  "cells": [
    {
      "cell_type": "markdown",
      "metadata": {
        "id": "view-in-github",
        "colab_type": "text"
      },
      "source": [
        "<a href=\"https://colab.research.google.com/github/disha4u/CSE494-598-Project/blob/master/densenet_simple_model_dm_project.ipynb\" target=\"_parent\"><img src=\"https://colab.research.google.com/assets/colab-badge.svg\" alt=\"Open In Colab\"/></a>"
      ]
    },
    {
      "cell_type": "code",
      "source": [
        "!pip install transformers"
      ],
      "metadata": {
        "colab": {
          "base_uri": "https://localhost:8080/"
        },
        "id": "KaZAsWXnRJII",
        "outputId": "4f09bd9f-8d41-4ad1-bb4d-a0f127b0322b"
      },
      "execution_count": null,
      "outputs": [
        {
          "metadata": {
            "tags": null
          },
          "name": "stdout",
          "output_type": "stream",
          "text": [
            "Looking in indexes: https://pypi.org/simple, https://us-python.pkg.dev/colab-wheels/public/simple/\n",
            "Collecting transformers\n",
            "  Downloading transformers-4.28.1-py3-none-any.whl (7.0 MB)\n",
            "\u001b[2K     \u001b[90m━━━━━━━━━━━━━━━━━━━━━━━━━━━━━━━━━━━━━━━━\u001b[0m \u001b[32m7.0/7.0 MB\u001b[0m \u001b[31m39.4 MB/s\u001b[0m eta \u001b[36m0:00:00\u001b[0m\n",
            "\u001b[?25hRequirement already satisfied: regex!=2019.12.17 in /usr/local/lib/python3.10/dist-packages (from transformers) (2022.10.31)\n",
            "Collecting huggingface-hub<1.0,>=0.11.0\n",
            "  Downloading huggingface_hub-0.14.1-py3-none-any.whl (224 kB)\n",
            "\u001b[2K     \u001b[90m━━━━━━━━━━━━━━━━━━━━━━━━━━━━━━━━━━━━━━\u001b[0m \u001b[32m224.5/224.5 kB\u001b[0m \u001b[31m16.1 MB/s\u001b[0m eta \u001b[36m0:00:00\u001b[0m\n",
            "\u001b[?25hCollecting tokenizers!=0.11.3,<0.14,>=0.11.1\n",
            "  Downloading tokenizers-0.13.3-cp310-cp310-manylinux_2_17_x86_64.manylinux2014_x86_64.whl (7.8 MB)\n",
            "\u001b[2K     \u001b[90m━━━━━━━━━━━━━━━━━━━━━━━━━━━━━━━━━━━━━━━━\u001b[0m \u001b[32m7.8/7.8 MB\u001b[0m \u001b[31m57.5 MB/s\u001b[0m eta \u001b[36m0:00:00\u001b[0m\n",
            "\u001b[?25hRequirement already satisfied: tqdm>=4.27 in /usr/local/lib/python3.10/dist-packages (from transformers) (4.65.0)\n",
            "Requirement already satisfied: packaging>=20.0 in /usr/local/lib/python3.10/dist-packages (from transformers) (23.1)\n",
            "Requirement already satisfied: pyyaml>=5.1 in /usr/local/lib/python3.10/dist-packages (from transformers) (6.0)\n",
            "Requirement already satisfied: requests in /usr/local/lib/python3.10/dist-packages (from transformers) (2.27.1)\n",
            "Requirement already satisfied: numpy>=1.17 in /usr/local/lib/python3.10/dist-packages (from transformers) (1.22.4)\n",
            "Requirement already satisfied: filelock in /usr/local/lib/python3.10/dist-packages (from transformers) (3.12.0)\n",
            "Requirement already satisfied: typing-extensions>=3.7.4.3 in /usr/local/lib/python3.10/dist-packages (from huggingface-hub<1.0,>=0.11.0->transformers) (4.5.0)\n",
            "Requirement already satisfied: fsspec in /usr/local/lib/python3.10/dist-packages (from huggingface-hub<1.0,>=0.11.0->transformers) (2023.4.0)\n",
            "Requirement already satisfied: certifi>=2017.4.17 in /usr/local/lib/python3.10/dist-packages (from requests->transformers) (2022.12.7)\n",
            "Requirement already satisfied: charset-normalizer~=2.0.0 in /usr/local/lib/python3.10/dist-packages (from requests->transformers) (2.0.12)\n",
            "Requirement already satisfied: urllib3<1.27,>=1.21.1 in /usr/local/lib/python3.10/dist-packages (from requests->transformers) (1.26.15)\n",
            "Requirement already satisfied: idna<4,>=2.5 in /usr/local/lib/python3.10/dist-packages (from requests->transformers) (3.4)\n",
            "Installing collected packages: tokenizers, huggingface-hub, transformers\n",
            "Successfully installed huggingface-hub-0.14.1 tokenizers-0.13.3 transformers-4.28.1\n"
          ]
        }
      ]
    },
    {
      "cell_type": "code",
      "source": [
        "!pip install sentencepiece"
      ],
      "metadata": {
        "colab": {
          "base_uri": "https://localhost:8080/"
        },
        "id": "-5HVpJN1SQmL",
        "outputId": "7af56fd7-4972-444b-9217-58ccda6766e6"
      },
      "execution_count": null,
      "outputs": [
        {
          "metadata": {
            "tags": null
          },
          "name": "stdout",
          "output_type": "stream",
          "text": [
            "Looking in indexes: https://pypi.org/simple, https://us-python.pkg.dev/colab-wheels/public/simple/\n",
            "Collecting sentencepiece\n",
            "  Downloading sentencepiece-0.1.99-cp310-cp310-manylinux_2_17_x86_64.manylinux2014_x86_64.whl (1.3 MB)\n",
            "\u001b[2K     \u001b[90m━━━━━━━━━━━━━━━━━━━━━━━━━━━━━━━━━━━━━━━━\u001b[0m \u001b[32m1.3/1.3 MB\u001b[0m \u001b[31m16.3 MB/s\u001b[0m eta \u001b[36m0:00:00\u001b[0m\n",
            "\u001b[?25hInstalling collected packages: sentencepiece\n",
            "Successfully installed sentencepiece-0.1.99\n"
          ]
        }
      ]
    },
    {
      "cell_type": "code",
      "source": [
        "!pip install datasets"
      ],
      "metadata": {
        "colab": {
          "base_uri": "https://localhost:8080/"
        },
        "id": "4bJUyJlgeO3-",
        "outputId": "826c3319-4f23-4724-f7d9-ce4ad7af6c63"
      },
      "execution_count": null,
      "outputs": [
        {
          "output_type": "stream",
          "name": "stdout",
          "text": [
            "Looking in indexes: https://pypi.org/simple, https://us-python.pkg.dev/colab-wheels/public/simple/\n",
            "Collecting datasets\n",
            "  Downloading datasets-2.12.0-py3-none-any.whl (474 kB)\n",
            "\u001b[2K     \u001b[90m━━━━━━━━━━━━━━━━━━━━━━━━━━━━━━━━━━━━━━━\u001b[0m \u001b[32m474.6/474.6 kB\u001b[0m \u001b[31m9.7 MB/s\u001b[0m eta \u001b[36m0:00:00\u001b[0m\n",
            "\u001b[?25hRequirement already satisfied: requests>=2.19.0 in /usr/local/lib/python3.10/dist-packages (from datasets) (2.27.1)\n",
            "Requirement already satisfied: numpy>=1.17 in /usr/local/lib/python3.10/dist-packages (from datasets) (1.22.4)\n",
            "Collecting dill<0.3.7,>=0.3.0\n",
            "  Downloading dill-0.3.6-py3-none-any.whl (110 kB)\n",
            "\u001b[2K     \u001b[90m━━━━━━━━━━━━━━━━━━━━━━━━━━━━━━━━━━━━━━\u001b[0m \u001b[32m110.5/110.5 kB\u001b[0m \u001b[31m14.3 MB/s\u001b[0m eta \u001b[36m0:00:00\u001b[0m\n",
            "\u001b[?25hCollecting multiprocess\n",
            "  Downloading multiprocess-0.70.14-py310-none-any.whl (134 kB)\n",
            "\u001b[2K     \u001b[90m━━━━━━━━━━━━━━━━━━━━━━━━━━━━━━━━━━━━━━\u001b[0m \u001b[32m134.3/134.3 kB\u001b[0m \u001b[31m15.9 MB/s\u001b[0m eta \u001b[36m0:00:00\u001b[0m\n",
            "\u001b[?25hRequirement already satisfied: tqdm>=4.62.1 in /usr/local/lib/python3.10/dist-packages (from datasets) (4.65.0)\n",
            "Collecting aiohttp\n",
            "  Downloading aiohttp-3.8.4-cp310-cp310-manylinux_2_17_x86_64.manylinux2014_x86_64.whl (1.0 MB)\n",
            "\u001b[2K     \u001b[90m━━━━━━━━━━━━━━━━━━━━━━━━━━━━━━━━━━━━━━━━\u001b[0m \u001b[32m1.0/1.0 MB\u001b[0m \u001b[31m39.3 MB/s\u001b[0m eta \u001b[36m0:00:00\u001b[0m\n",
            "\u001b[?25hRequirement already satisfied: huggingface-hub<1.0.0,>=0.11.0 in /usr/local/lib/python3.10/dist-packages (from datasets) (0.14.1)\n",
            "Collecting responses<0.19\n",
            "  Downloading responses-0.18.0-py3-none-any.whl (38 kB)\n",
            "Requirement already satisfied: packaging in /usr/local/lib/python3.10/dist-packages (from datasets) (23.1)\n",
            "Requirement already satisfied: pyyaml>=5.1 in /usr/local/lib/python3.10/dist-packages (from datasets) (6.0)\n",
            "Requirement already satisfied: pyarrow>=8.0.0 in /usr/local/lib/python3.10/dist-packages (from datasets) (9.0.0)\n",
            "Collecting xxhash\n",
            "  Downloading xxhash-3.2.0-cp310-cp310-manylinux_2_17_x86_64.manylinux2014_x86_64.whl (212 kB)\n",
            "\u001b[2K     \u001b[90m━━━━━━━━━━━━━━━━━━━━━━━━━━━━━━━━━━━━━━\u001b[0m \u001b[32m212.5/212.5 kB\u001b[0m \u001b[31m23.4 MB/s\u001b[0m eta \u001b[36m0:00:00\u001b[0m\n",
            "\u001b[?25hRequirement already satisfied: pandas in /usr/local/lib/python3.10/dist-packages (from datasets) (1.5.3)\n",
            "Requirement already satisfied: fsspec[http]>=2021.11.1 in /usr/local/lib/python3.10/dist-packages (from datasets) (2023.4.0)\n",
            "Requirement already satisfied: charset-normalizer<4.0,>=2.0 in /usr/local/lib/python3.10/dist-packages (from aiohttp->datasets) (2.0.12)\n",
            "Requirement already satisfied: attrs>=17.3.0 in /usr/local/lib/python3.10/dist-packages (from aiohttp->datasets) (23.1.0)\n",
            "Collecting multidict<7.0,>=4.5\n",
            "  Downloading multidict-6.0.4-cp310-cp310-manylinux_2_17_x86_64.manylinux2014_x86_64.whl (114 kB)\n",
            "\u001b[2K     \u001b[90m━━━━━━━━━━━━━━━━━━━━━━━━━━━━━━━━━━━━━━\u001b[0m \u001b[32m114.5/114.5 kB\u001b[0m \u001b[31m13.3 MB/s\u001b[0m eta \u001b[36m0:00:00\u001b[0m\n",
            "\u001b[?25hCollecting aiosignal>=1.1.2\n",
            "  Downloading aiosignal-1.3.1-py3-none-any.whl (7.6 kB)\n",
            "Collecting yarl<2.0,>=1.0\n",
            "  Downloading yarl-1.9.2-cp310-cp310-manylinux_2_17_x86_64.manylinux2014_x86_64.whl (268 kB)\n",
            "\u001b[2K     \u001b[90m━━━━━━━━━━━━━━━━━━━━━━━━━━━━━━━━━━━━━━\u001b[0m \u001b[32m268.8/268.8 kB\u001b[0m \u001b[31m25.9 MB/s\u001b[0m eta \u001b[36m0:00:00\u001b[0m\n",
            "\u001b[?25hCollecting frozenlist>=1.1.1\n",
            "  Downloading frozenlist-1.3.3-cp310-cp310-manylinux_2_5_x86_64.manylinux1_x86_64.manylinux_2_17_x86_64.manylinux2014_x86_64.whl (149 kB)\n",
            "\u001b[2K     \u001b[90m━━━━━━━━━━━━━━━━━━━━━━━━━━━━━━━━━━━━━━\u001b[0m \u001b[32m149.6/149.6 kB\u001b[0m \u001b[31m11.9 MB/s\u001b[0m eta \u001b[36m0:00:00\u001b[0m\n",
            "\u001b[?25hCollecting async-timeout<5.0,>=4.0.0a3\n",
            "  Downloading async_timeout-4.0.2-py3-none-any.whl (5.8 kB)\n",
            "Requirement already satisfied: typing-extensions>=3.7.4.3 in /usr/local/lib/python3.10/dist-packages (from huggingface-hub<1.0.0,>=0.11.0->datasets) (4.5.0)\n",
            "Requirement already satisfied: filelock in /usr/local/lib/python3.10/dist-packages (from huggingface-hub<1.0.0,>=0.11.0->datasets) (3.12.0)\n",
            "Requirement already satisfied: idna<4,>=2.5 in /usr/local/lib/python3.10/dist-packages (from requests>=2.19.0->datasets) (3.4)\n",
            "Requirement already satisfied: certifi>=2017.4.17 in /usr/local/lib/python3.10/dist-packages (from requests>=2.19.0->datasets) (2022.12.7)\n",
            "Requirement already satisfied: urllib3<1.27,>=1.21.1 in /usr/local/lib/python3.10/dist-packages (from requests>=2.19.0->datasets) (1.26.15)\n",
            "Requirement already satisfied: python-dateutil>=2.8.1 in /usr/local/lib/python3.10/dist-packages (from pandas->datasets) (2.8.2)\n",
            "Requirement already satisfied: pytz>=2020.1 in /usr/local/lib/python3.10/dist-packages (from pandas->datasets) (2022.7.1)\n",
            "Requirement already satisfied: six>=1.5 in /usr/local/lib/python3.10/dist-packages (from python-dateutil>=2.8.1->pandas->datasets) (1.16.0)\n",
            "Installing collected packages: xxhash, multidict, frozenlist, dill, async-timeout, yarl, responses, multiprocess, aiosignal, aiohttp, datasets\n",
            "Successfully installed aiohttp-3.8.4 aiosignal-1.3.1 async-timeout-4.0.2 datasets-2.12.0 dill-0.3.6 frozenlist-1.3.3 multidict-6.0.4 multiprocess-0.70.14 responses-0.18.0 xxhash-3.2.0 yarl-1.9.2\n"
          ]
        }
      ]
    },
    {
      "cell_type": "code",
      "source": [
        "!pip install rouge_score"
      ],
      "metadata": {
        "colab": {
          "base_uri": "https://localhost:8080/"
        },
        "id": "-jAAq99AeRcb",
        "outputId": "c1cf1e2a-e35b-4b20-f4f0-bab5b5cd9b70"
      },
      "execution_count": null,
      "outputs": [
        {
          "output_type": "stream",
          "name": "stdout",
          "text": [
            "Looking in indexes: https://pypi.org/simple, https://us-python.pkg.dev/colab-wheels/public/simple/\n",
            "Collecting rouge_score\n",
            "  Downloading rouge_score-0.1.2.tar.gz (17 kB)\n",
            "  Preparing metadata (setup.py) ... \u001b[?25l\u001b[?25hdone\n",
            "Requirement already satisfied: absl-py in /usr/local/lib/python3.10/dist-packages (from rouge_score) (1.4.0)\n",
            "Requirement already satisfied: nltk in /usr/local/lib/python3.10/dist-packages (from rouge_score) (3.8.1)\n",
            "Requirement already satisfied: numpy in /usr/local/lib/python3.10/dist-packages (from rouge_score) (1.22.4)\n",
            "Requirement already satisfied: six>=1.14.0 in /usr/local/lib/python3.10/dist-packages (from rouge_score) (1.16.0)\n",
            "Requirement already satisfied: tqdm in /usr/local/lib/python3.10/dist-packages (from nltk->rouge_score) (4.65.0)\n",
            "Requirement already satisfied: click in /usr/local/lib/python3.10/dist-packages (from nltk->rouge_score) (8.1.3)\n",
            "Requirement already satisfied: joblib in /usr/local/lib/python3.10/dist-packages (from nltk->rouge_score) (1.2.0)\n",
            "Requirement already satisfied: regex>=2021.8.3 in /usr/local/lib/python3.10/dist-packages (from nltk->rouge_score) (2022.10.31)\n",
            "Building wheels for collected packages: rouge_score\n",
            "  Building wheel for rouge_score (setup.py) ... \u001b[?25l\u001b[?25hdone\n",
            "  Created wheel for rouge_score: filename=rouge_score-0.1.2-py3-none-any.whl size=24954 sha256=2d13c702f7c06dba340dd152ba36de022362c4df16292fb18f028c4adf7b220f\n",
            "  Stored in directory: /root/.cache/pip/wheels/5f/dd/89/461065a73be61a532ff8599a28e9beef17985c9e9c31e541b4\n",
            "Successfully built rouge_score\n",
            "Installing collected packages: rouge_score\n",
            "Successfully installed rouge_score-0.1.2\n"
          ]
        }
      ]
    },
    {
      "cell_type": "code",
      "source": [
        "!pip install sacrebleu"
      ],
      "metadata": {
        "colab": {
          "base_uri": "https://localhost:8080/"
        },
        "id": "CE7kU2dieTMw",
        "outputId": "15a9bb6e-752a-4272-da41-8d0d32fabc49"
      },
      "execution_count": null,
      "outputs": [
        {
          "output_type": "stream",
          "name": "stdout",
          "text": [
            "Looking in indexes: https://pypi.org/simple, https://us-python.pkg.dev/colab-wheels/public/simple/\n",
            "Collecting sacrebleu\n",
            "  Downloading sacrebleu-2.3.1-py3-none-any.whl (118 kB)\n",
            "\u001b[2K     \u001b[90m━━━━━━━━━━━━━━━━━━━━━━━━━━━━━━━━━━━━━━━\u001b[0m \u001b[32m118.9/118.9 kB\u001b[0m \u001b[31m3.6 MB/s\u001b[0m eta \u001b[36m0:00:00\u001b[0m\n",
            "\u001b[?25hRequirement already satisfied: lxml in /usr/local/lib/python3.10/dist-packages (from sacrebleu) (4.9.2)\n",
            "Requirement already satisfied: numpy>=1.17 in /usr/local/lib/python3.10/dist-packages (from sacrebleu) (1.22.4)\n",
            "Collecting colorama\n",
            "  Downloading colorama-0.4.6-py2.py3-none-any.whl (25 kB)\n",
            "Requirement already satisfied: regex in /usr/local/lib/python3.10/dist-packages (from sacrebleu) (2022.10.31)\n",
            "Requirement already satisfied: tabulate>=0.8.9 in /usr/local/lib/python3.10/dist-packages (from sacrebleu) (0.8.10)\n",
            "Collecting portalocker\n",
            "  Downloading portalocker-2.7.0-py2.py3-none-any.whl (15 kB)\n",
            "Installing collected packages: portalocker, colorama, sacrebleu\n",
            "Successfully installed colorama-0.4.6 portalocker-2.7.0 sacrebleu-2.3.1\n"
          ]
        }
      ]
    },
    {
      "cell_type": "code",
      "source": [
        "!wget --no-check-certificate 'https://drive.google.com/uc?id=1BmWlNa9_ITBQWKyGhghzLyX-W2qv7-gU&export=download' -O 'vqa_rad.zip'"
      ],
      "metadata": {
        "colab": {
          "base_uri": "https://localhost:8080/"
        },
        "id": "G2UpYFEKixX2",
        "outputId": "0ef02596-70d7-4a0d-b738-5f3eb3117f82"
      },
      "execution_count": null,
      "outputs": [
        {
          "output_type": "stream",
          "name": "stdout",
          "text": [
            "--2023-05-04 14:37:44--  https://drive.google.com/uc?id=1BmWlNa9_ITBQWKyGhghzLyX-W2qv7-gU&export=download\n",
            "Resolving drive.google.com (drive.google.com)... 209.85.200.101, 209.85.200.100, 209.85.200.113, ...\n",
            "Connecting to drive.google.com (drive.google.com)|209.85.200.101|:443... connected.\n",
            "HTTP request sent, awaiting response... 303 See Other\n",
            "Location: https://doc-0s-30-docs.googleusercontent.com/docs/securesc/ha0ro937gcuc7l7deffksulhg5h7mbp1/q1smpf7c68pgc3sr6jkt7k0osqcpe4hl/1683211050000/15654891734789698788/*/1BmWlNa9_ITBQWKyGhghzLyX-W2qv7-gU?e=download&uuid=edaeace1-5034-4ce6-9837-5d657bf069b8 [following]\n",
            "Warning: wildcards not supported in HTTP.\n",
            "--2023-05-04 14:37:47--  https://doc-0s-30-docs.googleusercontent.com/docs/securesc/ha0ro937gcuc7l7deffksulhg5h7mbp1/q1smpf7c68pgc3sr6jkt7k0osqcpe4hl/1683211050000/15654891734789698788/*/1BmWlNa9_ITBQWKyGhghzLyX-W2qv7-gU?e=download&uuid=edaeace1-5034-4ce6-9837-5d657bf069b8\n",
            "Resolving doc-0s-30-docs.googleusercontent.com (doc-0s-30-docs.googleusercontent.com)... 108.177.111.132, 2607:f8b0:4001:c07::84\n",
            "Connecting to doc-0s-30-docs.googleusercontent.com (doc-0s-30-docs.googleusercontent.com)|108.177.111.132|:443... connected.\n",
            "HTTP request sent, awaiting response... 200 OK\n",
            "Length: 15627782 (15M) [application/x-zip-compressed]\n",
            "Saving to: ‘vqa_rad.zip’\n",
            "\n",
            "vqa_rad.zip         100%[===================>]  14.90M  80.8MB/s    in 0.2s    \n",
            "\n",
            "2023-05-04 14:37:48 (80.8 MB/s) - ‘vqa_rad.zip’ saved [15627782/15627782]\n",
            "\n"
          ]
        }
      ]
    },
    {
      "cell_type": "code",
      "source": [
        "!unzip -q vqa_rad.zip"
      ],
      "metadata": {
        "id": "HCIrWjDGiyt6"
      },
      "execution_count": null,
      "outputs": []
    },
    {
      "cell_type": "code",
      "source": [
        "!wget 'https://drive.google.com/uc?id=1kaqjkpbejfZLrfAVWVuDFp4_KyS7Wcmb&export=download' -O 'kaggle.json'"
      ],
      "metadata": {
        "id": "cOIQBvnokgzW",
        "colab": {
          "base_uri": "https://localhost:8080/"
        },
        "outputId": "b0f1ced5-404f-48d2-c272-c3bb0c7a0ea4"
      },
      "execution_count": null,
      "outputs": [
        {
          "output_type": "stream",
          "name": "stdout",
          "text": [
            "--2023-05-04 14:37:48--  https://drive.google.com/uc?id=1kaqjkpbejfZLrfAVWVuDFp4_KyS7Wcmb&export=download\n",
            "Resolving drive.google.com (drive.google.com)... 209.85.200.101, 209.85.200.100, 209.85.200.113, ...\n",
            "Connecting to drive.google.com (drive.google.com)|209.85.200.101|:443... connected.\n",
            "HTTP request sent, awaiting response... 303 See Other\n",
            "Location: https://doc-0o-30-docs.googleusercontent.com/docs/securesc/ha0ro937gcuc7l7deffksulhg5h7mbp1/pso6d0kkcve35eklok52fm2u7n0qfkv2/1683211050000/15654891734789698788/*/1kaqjkpbejfZLrfAVWVuDFp4_KyS7Wcmb?e=download&uuid=7cff0528-4649-46a3-9e09-2f88f17c193a [following]\n",
            "Warning: wildcards not supported in HTTP.\n",
            "--2023-05-04 14:37:49--  https://doc-0o-30-docs.googleusercontent.com/docs/securesc/ha0ro937gcuc7l7deffksulhg5h7mbp1/pso6d0kkcve35eklok52fm2u7n0qfkv2/1683211050000/15654891734789698788/*/1kaqjkpbejfZLrfAVWVuDFp4_KyS7Wcmb?e=download&uuid=7cff0528-4649-46a3-9e09-2f88f17c193a\n",
            "Resolving doc-0o-30-docs.googleusercontent.com (doc-0o-30-docs.googleusercontent.com)... 108.177.111.132, 2607:f8b0:4001:c07::84\n",
            "Connecting to doc-0o-30-docs.googleusercontent.com (doc-0o-30-docs.googleusercontent.com)|108.177.111.132|:443... connected.\n",
            "HTTP request sent, awaiting response... 200 OK\n",
            "Length: 68 [application/json]\n",
            "Saving to: ‘kaggle.json’\n",
            "\n",
            "kaggle.json         100%[===================>]      68  --.-KB/s    in 0s      \n",
            "\n",
            "2023-05-04 14:37:49 (2.85 MB/s) - ‘kaggle.json’ saved [68/68]\n",
            "\n"
          ]
        }
      ]
    },
    {
      "cell_type": "code",
      "source": [
        "import os\n",
        "os.environ['KAGGLE_CONFIG_DIR'] ='/content/'"
      ],
      "metadata": {
        "id": "lvBHuZWlmQrv"
      },
      "execution_count": null,
      "outputs": []
    },
    {
      "cell_type": "code",
      "source": [
        "!kaggle datasets download -d raddar/chest-xrays-indiana-university"
      ],
      "metadata": {
        "id": "MXqvlGGomUik",
        "colab": {
          "base_uri": "https://localhost:8080/"
        },
        "outputId": "ae0c2ce3-f2f5-4483-c52b-54a8772a4358"
      },
      "execution_count": null,
      "outputs": [
        {
          "output_type": "stream",
          "name": "stdout",
          "text": [
            "Warning: Your Kaggle API key is readable by other users on this system! To fix this, you can run 'chmod 600 /content/kaggle.json'\n",
            "Downloading chest-xrays-indiana-university.zip to /content\n",
            "100% 13.1G/13.2G [01:45<00:00, 157MB/s]\n",
            "100% 13.2G/13.2G [01:46<00:00, 133MB/s]\n"
          ]
        }
      ]
    },
    {
      "cell_type": "code",
      "source": [
        "!unzip -q chest-xrays-indiana-university.zip"
      ],
      "metadata": {
        "id": "jeHnLf8umYnM"
      },
      "execution_count": null,
      "outputs": []
    },
    {
      "cell_type": "code",
      "source": [
        "!wget 'https://drive.google.com/uc?id=1Ms_IZlEDJiIZ0_ufsGGMon__UrlNaPR4&export=download' -O 'iuc.zip'"
      ],
      "metadata": {
        "id": "sgdTgCjgmcqA",
        "colab": {
          "base_uri": "https://localhost:8080/"
        },
        "outputId": "08e648ff-c524-41c5-998c-0ad9a727988e"
      },
      "execution_count": null,
      "outputs": [
        {
          "output_type": "stream",
          "name": "stdout",
          "text": [
            "--2023-05-04 14:42:36--  https://drive.google.com/uc?id=1Ms_IZlEDJiIZ0_ufsGGMon__UrlNaPR4&export=download\n",
            "Resolving drive.google.com (drive.google.com)... 142.250.1.138, 142.250.1.139, 142.250.1.113, ...\n",
            "Connecting to drive.google.com (drive.google.com)|142.250.1.138|:443... connected.\n",
            "HTTP request sent, awaiting response... 303 See Other\n",
            "Location: https://doc-0s-30-docs.googleusercontent.com/docs/securesc/ha0ro937gcuc7l7deffksulhg5h7mbp1/kv3pqidgbltk5scpcsqakejr1l5l7e2t/1683211350000/15654891734789698788/*/1Ms_IZlEDJiIZ0_ufsGGMon__UrlNaPR4?e=download&uuid=47218ed4-d435-49a1-a800-f56a528e0e3c [following]\n",
            "Warning: wildcards not supported in HTTP.\n",
            "--2023-05-04 14:42:37--  https://doc-0s-30-docs.googleusercontent.com/docs/securesc/ha0ro937gcuc7l7deffksulhg5h7mbp1/kv3pqidgbltk5scpcsqakejr1l5l7e2t/1683211350000/15654891734789698788/*/1Ms_IZlEDJiIZ0_ufsGGMon__UrlNaPR4?e=download&uuid=47218ed4-d435-49a1-a800-f56a528e0e3c\n",
            "Resolving doc-0s-30-docs.googleusercontent.com (doc-0s-30-docs.googleusercontent.com)... 108.177.111.132, 2607:f8b0:4001:c07::84\n",
            "Connecting to doc-0s-30-docs.googleusercontent.com (doc-0s-30-docs.googleusercontent.com)|108.177.111.132|:443... connected.\n",
            "HTTP request sent, awaiting response... 200 OK\n",
            "Length: 333686 (326K) [application/x-zip-compressed]\n",
            "Saving to: ‘iuc.zip’\n",
            "\n",
            "iuc.zip             100%[===================>] 325.87K  --.-KB/s    in 0.004s  \n",
            "\n",
            "2023-05-04 14:42:37 (85.4 MB/s) - ‘iuc.zip’ saved [333686/333686]\n",
            "\n"
          ]
        }
      ]
    },
    {
      "cell_type": "code",
      "source": [
        "!wget 'https://drive.google.com/uc?id=1VSn9tW5bdeRbKPtjNFu9d9T9VjL2RcyH&export=download' -O 'combined.zip'"
      ],
      "metadata": {
        "colab": {
          "base_uri": "https://localhost:8080/"
        },
        "id": "vUIVeziMU_ju",
        "outputId": "f0192fbe-c0eb-4994-8783-447290bcb63d"
      },
      "execution_count": null,
      "outputs": [
        {
          "output_type": "stream",
          "name": "stdout",
          "text": [
            "--2023-05-04 14:42:37--  https://drive.google.com/uc?id=1VSn9tW5bdeRbKPtjNFu9d9T9VjL2RcyH&export=download\n",
            "Resolving drive.google.com (drive.google.com)... 142.250.1.138, 142.250.1.139, 142.250.1.113, ...\n",
            "Connecting to drive.google.com (drive.google.com)|142.250.1.138|:443... connected.\n",
            "HTTP request sent, awaiting response... 303 See Other\n",
            "Location: https://doc-0s-30-docs.googleusercontent.com/docs/securesc/ha0ro937gcuc7l7deffksulhg5h7mbp1/tjg0s1j96mt4kkm90n2lbae16fknhlne/1683211350000/15654891734789698788/*/1VSn9tW5bdeRbKPtjNFu9d9T9VjL2RcyH?e=download&uuid=d277d2e4-dff5-4c54-92ff-9c074a483593 [following]\n",
            "Warning: wildcards not supported in HTTP.\n",
            "--2023-05-04 14:42:38--  https://doc-0s-30-docs.googleusercontent.com/docs/securesc/ha0ro937gcuc7l7deffksulhg5h7mbp1/tjg0s1j96mt4kkm90n2lbae16fknhlne/1683211350000/15654891734789698788/*/1VSn9tW5bdeRbKPtjNFu9d9T9VjL2RcyH?e=download&uuid=d277d2e4-dff5-4c54-92ff-9c074a483593\n",
            "Resolving doc-0s-30-docs.googleusercontent.com (doc-0s-30-docs.googleusercontent.com)... 108.177.111.132, 2607:f8b0:4001:c07::84\n",
            "Connecting to doc-0s-30-docs.googleusercontent.com (doc-0s-30-docs.googleusercontent.com)|108.177.111.132|:443... connected.\n",
            "HTTP request sent, awaiting response... 200 OK\n",
            "Length: 271599 (265K) [application/x-zip-compressed]\n",
            "Saving to: ‘combined.zip’\n",
            "\n",
            "combined.zip        100%[===================>] 265.23K  --.-KB/s    in 0.004s  \n",
            "\n",
            "2023-05-04 14:42:38 (67.8 MB/s) - ‘combined.zip’ saved [271599/271599]\n",
            "\n"
          ]
        }
      ]
    },
    {
      "cell_type": "code",
      "source": [
        "!unzip combined.zip"
      ],
      "metadata": {
        "colab": {
          "base_uri": "https://localhost:8080/"
        },
        "id": "dEhTByBBVLRR",
        "outputId": "41712294-ac5f-4838-c0c0-f322cdfbad9a"
      },
      "execution_count": null,
      "outputs": [
        {
          "output_type": "stream",
          "name": "stdout",
          "text": [
            "Archive:  combined.zip\n",
            "  inflating: both_datsets/test_consolidated.csv  \n",
            "  inflating: both_datsets/train_consolidated.csv  \n",
            "  inflating: both_datsets/val_consolidated.csv  \n"
          ]
        }
      ]
    },
    {
      "cell_type": "code",
      "source": [
        "import torch\n",
        "import torchvision.models as models\n",
        "import pandas as pd\n",
        "from keras.applications.xception import Xception\n",
        "import cv2\n",
        "#from keras_preprocessing.sequence import pad_sequences\n",
        "from keras.utils import to_categorical\n",
        "from keras.utils import plot_model\n",
        "from keras.models import Model, Sequential\n",
        "from keras.callbacks import ModelCheckpoint\n",
        "from keras.layers import Concatenate, Add, TimeDistributed, Dot, Input,GlobalAveragePooling2D\n",
        "from keras.layers import Dense, Flatten,Input, Convolution2D, Dropout, LSTM, Softmax  \n",
        "from keras.layers import Embedding, Bidirectional, Activation, RepeatVector, Input, Reshape\n",
        "from sklearn.feature_extraction.text import TfidfVectorizer\n",
        "import nltk\n",
        "from nltk.tokenize import word_tokenize\n",
        "import datasets\n",
        "import string\n",
        "import numpy as np\n",
        "from keras import regularizers\n",
        "import re\n",
        "from tensorflow.keras.preprocessing.sequence import pad_sequences"
      ],
      "metadata": {
        "id": "PUCAwFG2rfos"
      },
      "execution_count": null,
      "outputs": []
    },
    {
      "cell_type": "code",
      "source": [
        "rouge_metric = datasets.load_metric('rouge')\n",
        "sacrebleu_metric = datasets.load_metric('sacrebleu')"
      ],
      "metadata": {
        "id": "SHzylSwKhOhh",
        "colab": {
          "base_uri": "https://localhost:8080/",
          "height": 136,
          "referenced_widgets": [
            "dde9720e3ca64948bf7d4be4a39313e0",
            "805785585a2c481cbfc6c4444128f12e",
            "8d5a2e60c88f4134adb028ec26cdf985",
            "8479e15ac41e4529885afdd1f1f8c821",
            "ad168a752ef34452b79dd28dfd5b3615",
            "eabafd630a334e399323882d153c2ec4",
            "7701efaec7bc4458b51c30186449c829",
            "fc09c017dfa74b89b68965c453fd7899",
            "4bd732c10d9b425898e0500b2f929feb",
            "2db9e01eb8b9416180b6153761630684",
            "78d7f6d7beb64bcb83b552fda817f316",
            "e56888a6eedb41e4bae9cd74830298ec",
            "7bc60a3303064e06bb272f7d22c76f65",
            "681451c483d8485a8285f3071200634b",
            "5af977350c4f4a92b92e70a744a1c3c2",
            "9da67594aad34053a2856575759382f2",
            "295d6402becd4834a05331bf7fab8ddc",
            "c1f90b0a43854653bac9d180d62f2342",
            "4be90b84a5cc45988f0248e1ee3bf2ad",
            "93ac6a00a0e145549740a048b87393d3",
            "24c3cdfa7e2646d599aae2bfe0237874",
            "e30c62ff999f4a4680b69afdcad7d57b"
          ]
        },
        "outputId": "32f8e5c5-48b1-4eec-88ed-4641c723c620"
      },
      "execution_count": null,
      "outputs": [
        {
          "output_type": "stream",
          "name": "stderr",
          "text": [
            "<ipython-input-16-c08fc9fc3d14>:1: FutureWarning: load_metric is deprecated and will be removed in the next major version of datasets. Use 'evaluate.load' instead, from the new library 🤗 Evaluate: https://huggingface.co/docs/evaluate\n",
            "  rouge_metric = datasets.load_metric('rouge')\n"
          ]
        },
        {
          "output_type": "display_data",
          "data": {
            "text/plain": [
              "Downloading builder script:   0%|          | 0.00/2.17k [00:00<?, ?B/s]"
            ],
            "application/vnd.jupyter.widget-view+json": {
              "version_major": 2,
              "version_minor": 0,
              "model_id": "dde9720e3ca64948bf7d4be4a39313e0"
            }
          },
          "metadata": {}
        },
        {
          "output_type": "display_data",
          "data": {
            "text/plain": [
              "Downloading builder script:   0%|          | 0.00/2.85k [00:00<?, ?B/s]"
            ],
            "application/vnd.jupyter.widget-view+json": {
              "version_major": 2,
              "version_minor": 0,
              "model_id": "e56888a6eedb41e4bae9cd74830298ec"
            }
          },
          "metadata": {}
        }
      ]
    },
    {
      "cell_type": "code",
      "source": [
        "# Load the pre-trained DenseNet-121 model with CheXpert weights without showing a progress bar\n",
        "model_densenet = models.densenet121(pretrained=True)\n",
        "modules = list(model_densenet.children())[:-1]\n",
        "model_densenet = torch.nn.Sequential(*modules)\n",
        "model_densenet.add_module('global_avg_pool', torch.nn.AdaptiveAvgPool2d((1, 1)))\n",
        "# Set the model to evaluation mode\n",
        "model_densenet.eval()\n"
      ],
      "metadata": {
        "id": "5VROnYIDSSoo",
        "colab": {
          "base_uri": "https://localhost:8080/"
        },
        "outputId": "a13e23f0-88ed-460c-fe07-3360ab74264a"
      },
      "execution_count": null,
      "outputs": [
        {
          "output_type": "stream",
          "name": "stderr",
          "text": [
            "/usr/local/lib/python3.10/dist-packages/torchvision/models/_utils.py:208: UserWarning: The parameter 'pretrained' is deprecated since 0.13 and may be removed in the future, please use 'weights' instead.\n",
            "  warnings.warn(\n",
            "/usr/local/lib/python3.10/dist-packages/torchvision/models/_utils.py:223: UserWarning: Arguments other than a weight enum or `None` for 'weights' are deprecated since 0.13 and may be removed in the future. The current behavior is equivalent to passing `weights=DenseNet121_Weights.IMAGENET1K_V1`. You can also use `weights=DenseNet121_Weights.DEFAULT` to get the most up-to-date weights.\n",
            "  warnings.warn(msg)\n",
            "Downloading: \"https://download.pytorch.org/models/densenet121-a639ec97.pth\" to /root/.cache/torch/hub/checkpoints/densenet121-a639ec97.pth\n",
            "100%|██████████| 30.8M/30.8M [00:00<00:00, 153MB/s]\n"
          ]
        }
      ]
    },
    {
      "cell_type": "code",
      "source": [
        "model_xception= Xception(include_top=False,weights='imagenet')\n",
        "output_layer=GlobalAveragePooling2D()(model_xception.output)\n",
        "new_xception=Model(inputs=model_xception.input,outputs=output_layer)"
      ],
      "metadata": {
        "id": "2sXl66SzkBev",
        "colab": {
          "base_uri": "https://localhost:8080/"
        },
        "outputId": "ff2994ba-6c9f-4a90-ff70-6402bdb92664"
      },
      "execution_count": null,
      "outputs": [
        {
          "output_type": "stream",
          "name": "stdout",
          "text": [
            "Downloading data from https://storage.googleapis.com/tensorflow/keras-applications/xception/xception_weights_tf_dim_ordering_tf_kernels_notop.h5\n",
            "83683744/83683744 [==============================] - 0s 0us/step\n"
          ]
        }
      ]
    },
    {
      "cell_type": "code",
      "execution_count": null,
      "metadata": {
        "id": "DALK51eKObh2"
      },
      "outputs": [],
      "source": [
        "def getimagefeatures(model,imgpath):\n",
        "  img=cv2.imread(imgpath)\n",
        "  if \"keras.engine.functional.Functional\" in str(type(model)):\n",
        "    img = cv2.resize(img, (299,299))\n",
        "    img = img.reshape(1,299,299,3)\n",
        "    out= model.predict(img)\n",
        "  else:\n",
        "    img = cv2.resize(img, (224,224))\n",
        "    img = img.reshape(224,224,3)\n",
        "    transform = transforms.Compose([transforms.ToTensor()])\n",
        "    img= transform(img)\n",
        "    img = img.unsqueeze(0)\n",
        "    out= model(img)\n",
        "    out = out.detach().numpy()\n",
        "    out=out.reshape((1,1024))\n",
        "    #out=out.repeat(2,1)\n",
        "  return out"
      ]
    },
    {
      "cell_type": "code",
      "source": [
        "def normalize_answer(s):\n",
        "    \"\"\"Lower text and remove punctuation, articles and extra whitespace.\"\"\"\n",
        "\n",
        "    #print(\"in norm function\")\n",
        "\n",
        "    def white_space_fix(text):\n",
        "      #print(\"white space\")\n",
        "      return ' '.join(text.split())\n",
        "\n",
        "    def remove_punc(text):\n",
        "      #print(\"remove punctuation\")\n",
        "      exclude = set(string.punctuation)\n",
        "      return ''.join(ch for ch in text if ch not in exclude)\n",
        "\n",
        "    def lower(text):\n",
        "      #print(\"text lower\")\n",
        "      return text.lower()\n",
        "\n",
        "    return white_space_fix(remove_punc(lower(s)))"
      ],
      "metadata": {
        "id": "J3G1ZY1qiKTJ"
      },
      "execution_count": null,
      "outputs": []
    },
    {
      "cell_type": "code",
      "source": [
        "def process_ip_text(word_dc,prompt,op=\"\",max_l=0):\n",
        "  #pad=[word_dc[\"<pad>\"] for _ in range(max_l)]\n",
        "  prompt=prompt.lower()\n",
        "  prompt = prompt.translate(str.maketrans('', '', string.punctuation))\n",
        "  ip=[word_dc[\"<start>\"]]\n",
        "  ip.extend([word_dc[w] if w in word_dc else word_dc[\"<unk>\"] for w in prompt.split()])\n",
        "  ip.append(word_dc[\"<sep>\"])\n",
        "  if op!=\"\":\n",
        "    op = op.lower()\n",
        "    op = op.translate(str.maketrans('', '', string.punctuation))\n",
        "    ip.extend([word_dc[w] if w in word_dc else word_dc[\"<unk>\"] for w in op.split()])\n",
        "  #if len(ip)<max_l:\n",
        "  #  ip.extend(pad[len(ip):])\n",
        "  #if len(ip)>max_l:\n",
        "  #  print(\"ip more than specified range\")\n",
        "  return pad_sequences([ip], maxlen=max_l)\n"
      ],
      "metadata": {
        "id": "rh9dge4vLI0B"
      },
      "execution_count": null,
      "outputs": []
    },
    {
      "cell_type": "code",
      "source": [
        "def process_output_text(output, token_dc):\n",
        "  output=(\" \").join([token_dc[t] if t!=-1 else '' for t in output])\n",
        "  return output"
      ],
      "metadata": {
        "id": "0Aoigtq3LiG8"
      },
      "execution_count": null,
      "outputs": []
    },
    {
      "cell_type": "code",
      "source": [
        "class encoder:\n",
        "  def __init__(self, embedding_sz=100, vocab_sz=None, inputlen=None, units=[512,1024]):\n",
        "    self.encoder = Sequential()\n",
        "    self.encoder.add(Embedding(input_dim=vocab_sz, output_dim=embedding_sz, input_length=inputlen))\n",
        "    for u in units:\n",
        "      self.encoder.add(LSTM(u,activity_regularizer=regularizers.l1(0.00001)))\n",
        "      self.encoder.add(RepeatVector(2))\n",
        "    self.encoder.add(Reshape((2*units[-1],)))\n",
        "\n",
        "  def __call__(self, x):\n",
        "    return self.encoder(x)\n",
        "class decoder:\n",
        "  def __init__(self,vocab_sz=None, units=[512,256]):\n",
        "    self.decoder = Sequential()\n",
        "    #self.decoder.add(Embedding(input_dim=vocab_sz, output_dim=embedding_sz, input_length=2048))\n",
        "    self.decoder.add(LSTM(units[0],input_shape=(2048,1),activity_regularizer=regularizers.l1(0.00001), return_sequences=True))\n",
        "    self.decoder.add(LSTM(units[-1],activity_regularizer=regularizers.l1(0.00001), return_sequences=True))\n",
        "    self.decoder.add(TimeDistributed(Dense(vocab_sz, activation='softmax')))\n",
        "  \n",
        "  def __call__(self, x):\n",
        "    return self.decoder(x)  \n"
      ],
      "metadata": {
        "id": "6u7hDNtllnm8"
      },
      "execution_count": null,
      "outputs": []
    },
    {
      "cell_type": "code",
      "source": [
        "def sacrebleu(prediction, ground_truth_list):\n",
        "    score = sacrebleu_metric.compute(\n",
        "        predictions=[prediction],\n",
        "        references=[ground_truth_list]  # scarebleu expects several golds per\n",
        "    )\n",
        "    return score['score'] / 100"
      ],
      "metadata": {
        "id": "rUYojasrMCuz"
      },
      "execution_count": null,
      "outputs": []
    },
    {
      "cell_type": "code",
      "source": [
        "def rouge(prediction: str, ground_truth: str):\n",
        "  \n",
        "  score = rouge_metric.compute(\n",
        "      predictions=[prediction],\n",
        "      references=[ground_truth],\n",
        "      rouge_types= ['rougeL']\n",
        "      )\n",
        "  return score['rougeL'][0].fmeasure"
      ],
      "metadata": {
        "id": "H_KHgp8shcVJ"
      },
      "execution_count": null,
      "outputs": []
    },
    {
      "cell_type": "code",
      "source": [
        "nltk.download('punkt')"
      ],
      "metadata": {
        "colab": {
          "base_uri": "https://localhost:8080/"
        },
        "id": "xyq2US-4jQTw",
        "outputId": "1396ccaf-4fdc-4066-b7ec-36ae8484852a"
      },
      "execution_count": null,
      "outputs": [
        {
          "output_type": "stream",
          "name": "stderr",
          "text": [
            "[nltk_data] Downloading package punkt to /root/nltk_data...\n",
            "[nltk_data]   Unzipping tokenizers/punkt.zip.\n"
          ]
        },
        {
          "output_type": "execute_result",
          "data": {
            "text/plain": [
              "True"
            ]
          },
          "metadata": {},
          "execution_count": 26
        }
      ]
    },
    {
      "cell_type": "code",
      "source": [
        "class model_ip():\n",
        "\n",
        "  def __init__(self):\n",
        "    self.X=[]\n",
        "    self.y_in=[]\n",
        "    self.y_out=[]\n",
        "\n",
        "  def generate_model_ip(self,df,word_dc,token_dc,vocab_size,prompt,img,output,mxlen,mxleno):\n",
        "    X=[]\n",
        "    y_in=[]\n",
        "    y_out=[]\n",
        "\n",
        "    for i in range(len(df)):\n",
        "      #ip=process_ip_text(word_dc,df[prompt].iloc[i],mxlenp)\n",
        "      y_in.append(process_ip_text(word_dc,df[prompt].iloc[i],max_l=mxlen))\n",
        "      #o=process_ip_text(word_dc,df[output].iloc[i],max_l=mxleno)\n",
        "      op=df[output].iloc[i].lower().split(\" \")\n",
        "      #op.append(\"<stop>\")\n",
        "      o=word_dc[op[0]] if op[0] in word_dc else word_dc[\"<unk>\"]\n",
        "      #print(len(ip))\n",
        "      y_out.append(to_categorical([o], num_classes=vocab_size)[0])\n",
        "      imgfeat=getimagefeatures(new_xception,df[img][i])\n",
        "      X.append(imgfeat)\n",
        "      if i%500==0:\n",
        "        print(i,\"th input added to trainset\")\n",
        "      for j in range(1,len(op)):\n",
        "        X.append(imgfeat)\n",
        "        \n",
        "        #print(len(ip))\n",
        "        ip=process_ip_text(word_dc,df[prompt].iloc[i],\" \".join(op[:j]),mxlen)\n",
        "        y_in.append(ip)\n",
        "        o=word_dc[op[j]] if op[j] in word_dc else word_dc[\"<unk>\"]\n",
        "        y_out.append(to_categorical([o], num_classes=vocab_size)[0])\n",
        "    X = np.array(X)\n",
        "    y_in = np.array(y_in, dtype='float64')\n",
        "    y_in = y_in.reshape((y_in.shape[0],y_in.shape[-1],1))\n",
        "    X= X.reshape((X.shape[0],X.shape[-1],1))\n",
        "    y_out = np.array(y_out, dtype='float64')\n",
        "    y_out = y_out.reshape((y_out.shape[0],1,y_out.shape[-1]))\n",
        "    self.X=X\n",
        "    self.y_in=y_in\n",
        "    self.y_out=y_out\n",
        "    return X,y_in,y_out"
      ],
      "metadata": {
        "id": "psFGrmVnbpIL"
      },
      "execution_count": null,
      "outputs": []
    },
    {
      "cell_type": "code",
      "source": [
        "class dictionary:\n",
        "  word_dc={}\n",
        "  token_dc={}\n",
        "  vocab_sz=0\n",
        "  mxlenp=0\n",
        "  mxleno=0\n",
        "  mxlen=0\n",
        "  \n",
        "  @staticmethod\n",
        "  def gen_dc(df,prompt='QUESTION',output='ANSWER'):\n",
        "    text1=(' ').join(list(df[prompt]))\n",
        "    text2=(' ').join(list(df[output]))\n",
        "    text=text1+text2\n",
        "    text=text.lower()\n",
        "    words=word_tokenize(text)\n",
        "    words=set(words)\n",
        "    dictionary.word_dc={word:i for i,word in enumerate(words)}\n",
        "    \n",
        "    dictionary.word_dc['<unk>']=len(dictionary.word_dc)\n",
        "    #dictionary.word_dc['<pad>']=len(dictionary.word_dc)\n",
        "    dictionary.word_dc['<sep>']=len(dictionary.word_dc)\n",
        "    dictionary.word_dc['<start>']=len(dictionary.word_dc)\n",
        "    #dictionary.word_dc['<stop>']=len(dictionary.word_dc)\n",
        "    dictionary.token_dc={v:k for k,v in dictionary.word_dc.items()}\n",
        "    dictionary.vocab_sz=len(dictionary.word_dc)\n",
        "\n",
        "  \n",
        "  \n"
      ],
      "metadata": {
        "id": "OysJzWOmcP_p"
      },
      "execution_count": null,
      "outputs": []
    },
    {
      "cell_type": "code",
      "source": [
        "import tensorflow as tf\n",
        "def op_gen(m,imgpath,prompt,mxleno,mxlen):\n",
        "  imfeat=getimagefeatures(new_xception,imgpath)\n",
        "  op=\"\"\n",
        "  s=prompt\n",
        "  for i in range(mxleno):\n",
        "    #print(\"op gen \")\n",
        "    #print(i)\n",
        "    ip=process_ip_text(dictionary.word_dc,prompt,op,max_l=mxlen)\n",
        "    ip=np.array(ip)\n",
        "    #ip=[ip]\n",
        "    #ip=ip.reshape((1,mxlen))\n",
        "    \n",
        "    #print(ip)\n",
        "    #print(prompt)\n",
        "    #print(op)\n",
        "    #try:\n",
        "    #print(\"b4 model call\")\n",
        "    tok =np.argmax(m.predict([imfeat,ip]))\n",
        "    #print(type(tok))\n",
        "    #return tok\n",
        "    #finally:\n",
        "    #  print(tok)\n",
        "    #  print(ip)\n",
        "    #  return op\n",
        "    #print(tok)\n",
        "    #print(tok.shape)\n",
        "    #print(tok.dtype)\n",
        "    op=op+dictionary.token_dc[tok]+\" \"\n",
        "    #if dictionary.token_dc[tok]=='<stop>':\n",
        "      #print(\"hi\")\n",
        "      #break\n",
        "  #print(op)\n",
        "  #print(\"exit op gen\")\n",
        "  return op  \n",
        "  \n",
        "  "
      ],
      "metadata": {
        "id": "oxB6pJ1w7jgh"
      },
      "execution_count": null,
      "outputs": []
    },
    {
      "cell_type": "code",
      "source": [
        "def main(dataset_path=\"./VQA_RAD/train.csv\",img='IMAGEID',prompt='QUESTION',\n",
        "         output='ANSWER', train=True, test=True,test_path=\"./VQA_RAD/test.csv\",m_wt=None,m=None):\n",
        "  df=pd.read_csv(dataset_path,sep=\"|\")\n",
        "  mxlenp=max(df[prompt].apply(lambda x: len(x.split())))\n",
        "  mxleno=max(df[output].apply(lambda x: len(x.split())))\n",
        "  mxlen=mxlenp+mxleno+2\n",
        "  dc=dictionary()\n",
        "  dc.gen_dc(df,prompt,output)\n",
        "  dictionary.mxleno=mxleno\n",
        "  dictionary.mxlen=mxlen\n",
        "  dictionary.mxlenp=mxlenp\n",
        "  word_dc=dc.word_dc\n",
        "  token_dc=dc.token_dc\n",
        "  #vocab_size=len(word_dc)\n",
        "  vocab_size=dictionary.vocab_sz\n",
        "  if train:\n",
        "    trn_inp=model_ip()\n",
        "    X,y_in,y_out=trn_inp.generate_model_ip(df,word_dc,token_dc,vocab_size,prompt,img,output,mxlen,mxleno)\n",
        "    print(\"created inputs for train model\")\n",
        "  if m==None:\n",
        "    img_input=Input(shape=(2048,))\n",
        "    text_input = Input(shape=(mxlen,))\n",
        "    enc=encoder(embedding_sz=100, vocab_sz=vocab_size, inputlen=mxlen, units=[512, 1024])\n",
        "    dot_product = Dot(axes=1)([img_input, enc(text_input)])\n",
        "    #rshp=Reshape((2048,1))(dot_product)\n",
        "    dec=decoder(vocab_sz=vocab_size, units=[512, 256])\n",
        "    output = dec(dot_product)\n",
        "    softmax_layer = Softmax()(output)\n",
        "    model = Model(inputs=[img_input ,text_input], outputs=softmax_layer)\n",
        "    model.compile(loss='categorical_crossentropy', optimizer='RMSprop', metrics=['accuracy'])\n",
        "    print(\"model compile success\")\n",
        "  if train:\n",
        "    model.fit([X, y_in], y_out, batch_size=150, epochs=5)\n",
        "  if not train :\n",
        "    model.load_weights(\"model_weights\")\n",
        "    \n",
        "  if test:\n",
        "    #tf.config.experimental_run_functions_eagerly(True)\n",
        "    outputs=[]\n",
        "    r_scores=[]\n",
        "    b_scores=[]\n",
        "    df_test=pd.read_csv(test_path, sep='|')\n",
        "    for i in range(len(df_test)):\n",
        "      try:\n",
        "        op=op_gen(model,df_test[img].iloc[i],df_test[prompt].iloc[i],mxleno,mxlen)\n",
        "      finally:\n",
        "      #return op\n",
        "        return model,outputs,trn_inp,r_scores,b_scores\n",
        "      #print(\"op gen done\")\n",
        "      outputs.append(op)\n",
        "      #print(\"op appended\")\n",
        "      norm_ans=normalize_answer(df_test[output].iloc[i])\n",
        "      #print(\"ans normalized\")\n",
        "      r=rouge(op,norm_ans)\n",
        "      #print(r)\n",
        "      b=sacrebleu(op,norm_ans.split())\n",
        "      #print(b)\n",
        "      r_scores.append(r)\n",
        "      b_scores.append(b)\n",
        "  return model,outputs,trn_inp,r_scores,b_scores"
      ],
      "metadata": {
        "id": "y4Dm350BVUEv"
      },
      "execution_count": null,
      "outputs": []
    },
    {
      "cell_type": "code",
      "source": [
        "#tk=main()"
      ],
      "metadata": {
        "id": "niQAAZo1Jr5f"
      },
      "execution_count": null,
      "outputs": []
    },
    {
      "cell_type": "code",
      "source": [
        "m,ops,tr_ip,r,b=main()"
      ],
      "metadata": {
        "colab": {
          "base_uri": "https://localhost:8080/"
        },
        "id": "Bzng8qfwTZ7x",
        "outputId": "e1ec4dc5-170b-4e17-ddc3-1194ecc593c3"
      },
      "execution_count": null,
      "outputs": [
        {
          "output_type": "stream",
          "name": "stdout",
          "text": [
            "0 th input added to trainset\n",
            "500 th input added to trainset\n",
            "created inputs for train model\n",
            "model compile success\n",
            "Epoch 1/5\n",
            "8/8 [==============================] - 22s 2s/step - loss: 6.4569 - accuracy: 0.1229\n",
            "Epoch 2/5\n",
            "8/8 [==============================] - 13s 2s/step - loss: 6.4569 - accuracy: 0.1031\n",
            "Epoch 3/5\n",
            "8/8 [==============================] - 13s 2s/step - loss: 6.4569 - accuracy: 0.2027\n",
            "Epoch 4/5\n",
            "8/8 [==============================] - 13s 2s/step - loss: 6.4569 - accuracy: 0.2577\n",
            "Epoch 5/5\n",
            "8/8 [==============================] - 13s 2s/step - loss: 6.4569 - accuracy: 0.2577\n",
            "1/1 [==============================] - 4s 4s/step\n",
            "1/1 [==============================] - 0s 60ms/step\n",
            "1/1 [==============================] - 0s 55ms/step\n",
            "1/1 [==============================] - 0s 59ms/step\n",
            "1/1 [==============================] - 0s 56ms/step\n",
            "1/1 [==============================] - 0s 60ms/step\n",
            "1/1 [==============================] - 0s 56ms/step\n",
            "1/1 [==============================] - 0s 61ms/step\n",
            "1/1 [==============================] - 0s 58ms/step\n",
            "1/1 [==============================] - 0s 58ms/step\n",
            "1/1 [==============================] - 0s 54ms/step\n",
            "1/1 [==============================] - 0s 64ms/step\n",
            "1/1 [==============================] - 0s 60ms/step\n",
            "1/1 [==============================] - 0s 59ms/step\n"
          ]
        }
      ]
    },
    {
      "cell_type": "code",
      "source": [
        "df_test=pd.read_csv(\"./VQA_RAD/test.csv\", sep='|')"
      ],
      "metadata": {
        "id": "1SfFiZcm-yqy"
      },
      "execution_count": null,
      "outputs": []
    },
    {
      "cell_type": "code",
      "source": [
        "imfeat=getimagefeatures(new_xception,df_test['IMAGEID'].iloc[0])"
      ],
      "metadata": {
        "id": "zKoAFzWyQTht"
      },
      "execution_count": null,
      "outputs": []
    },
    {
      "cell_type": "code",
      "source": [
        "ip=process_ip_text(dictionary.word_dc,df_test['QUESTION'].iloc[0],op=\"\",max_l=dictionary.mxlen)"
      ],
      "metadata": {
        "id": "4-GaKHzsQjc8"
      },
      "execution_count": null,
      "outputs": []
    },
    {
      "cell_type": "code",
      "source": [
        "ip.shape"
      ],
      "metadata": {
        "colab": {
          "base_uri": "https://localhost:8080/"
        },
        "id": "Ka4MnBekQ4YH",
        "outputId": "4b5660a0-a146-49ef-9620-6422739aaeb8"
      },
      "execution_count": null,
      "outputs": [
        {
          "output_type": "execute_result",
          "data": {
            "text/plain": [
              "(1, 38)"
            ]
          },
          "metadata": {},
          "execution_count": 76
        }
      ]
    },
    {
      "cell_type": "code",
      "source": [
        "tr_ip.y_out.shape"
      ],
      "metadata": {
        "colab": {
          "base_uri": "https://localhost:8080/"
        },
        "id": "-6z5dwUcQ5_R",
        "outputId": "a624e461-6325-4472-c9db-573513cd5c57"
      },
      "execution_count": null,
      "outputs": [
        {
          "output_type": "execute_result",
          "data": {
            "text/plain": [
              "(1164, 1, 637)"
            ]
          },
          "metadata": {},
          "execution_count": 77
        }
      ]
    },
    {
      "cell_type": "code",
      "source": [
        "xt=[np.argmax(g) for g in tr_ip.y_out]"
      ],
      "metadata": {
        "id": "ogCj6711TVU4"
      },
      "execution_count": null,
      "outputs": []
    },
    {
      "cell_type": "code",
      "source": [
        "xt"
      ],
      "metadata": {
        "colab": {
          "base_uri": "https://localhost:8080/"
        },
        "id": "3an7cl7EWzzu",
        "outputId": "6f205477-5041-4598-9a5e-a34c88de6116"
      },
      "execution_count": null,
      "outputs": [
        {
          "output_type": "execute_result",
          "data": {
            "text/plain": [
              "[271,\n",
              " 250,\n",
              " 140,\n",
              " 140,\n",
              " 251,\n",
              " 500,\n",
              " 56,\n",
              " 500,\n",
              " 271,\n",
              " 250,\n",
              " 173,\n",
              " 500,\n",
              " 140,\n",
              " 500,\n",
              " 500,\n",
              " 500,\n",
              " 140,\n",
              " 500,\n",
              " 500,\n",
              " 140,\n",
              " 500,\n",
              " 271,\n",
              " 35,\n",
              " 323,\n",
              " 608,\n",
              " 107,\n",
              " 271,\n",
              " 373,\n",
              " 470,\n",
              " 507,\n",
              " 363,\n",
              " 257,\n",
              " 126,\n",
              " 153,\n",
              " 107,\n",
              " 342,\n",
              " 472,\n",
              " 107,\n",
              " 386,\n",
              " 500,\n",
              " 500,\n",
              " 84,\n",
              " 418,\n",
              " 447,\n",
              " 405,\n",
              " 503,\n",
              " 457,\n",
              " 500,\n",
              " 500,\n",
              " 140,\n",
              " 140,\n",
              " 500,\n",
              " 316,\n",
              " 271,\n",
              " 355,\n",
              " 626,\n",
              " 500,\n",
              " 500,\n",
              " 271,\n",
              " 132,\n",
              " 230,\n",
              " 500,\n",
              " 300,\n",
              " 500,\n",
              " 500,\n",
              " 500,\n",
              " 500,\n",
              " 500,\n",
              " 56,\n",
              " 140,\n",
              " 500,\n",
              " 140,\n",
              " 271,\n",
              " 140,\n",
              " 140,\n",
              " 271,\n",
              " 580,\n",
              " 552,\n",
              " 107,\n",
              " 342,\n",
              " 500,\n",
              " 140,\n",
              " 500,\n",
              " 514,\n",
              " 140,\n",
              " 500,\n",
              " 140,\n",
              " 454,\n",
              " 140,\n",
              " 132,\n",
              " 88,\n",
              " 140,\n",
              " 56,\n",
              " 323,\n",
              " 608,\n",
              " 500,\n",
              " 140,\n",
              " 500,\n",
              " 500,\n",
              " 378,\n",
              " 140,\n",
              " 500,\n",
              " 500,\n",
              " 140,\n",
              " 300,\n",
              " 500,\n",
              " 386,\n",
              " 613,\n",
              " 294,\n",
              " 329,\n",
              " 557,\n",
              " 500,\n",
              " 500,\n",
              " 500,\n",
              " 500,\n",
              " 386,\n",
              " 250,\n",
              " 271,\n",
              " 35,\n",
              " 323,\n",
              " 608,\n",
              " 500,\n",
              " 500,\n",
              " 500,\n",
              " 500,\n",
              " 500,\n",
              " 87,\n",
              " 500,\n",
              " 271,\n",
              " 132,\n",
              " 230,\n",
              " 271,\n",
              " 35,\n",
              " 323,\n",
              " 608,\n",
              " 187,\n",
              " 614,\n",
              " 500,\n",
              " 91,\n",
              " 634,\n",
              " 422,\n",
              " 160,\n",
              " 634,\n",
              " 405,\n",
              " 79,\n",
              " 167,\n",
              " 500,\n",
              " 566,\n",
              " 140,\n",
              " 140,\n",
              " 8,\n",
              " 107,\n",
              " 302,\n",
              " 462,\n",
              " 507,\n",
              " 86,\n",
              " 472,\n",
              " 471,\n",
              " 107,\n",
              " 462,\n",
              " 552,\n",
              " 107,\n",
              " 422,\n",
              " 634,\n",
              " 271,\n",
              " 261,\n",
              " 386,\n",
              " 35,\n",
              " 224,\n",
              " 140,\n",
              " 529,\n",
              " 500,\n",
              " 500,\n",
              " 500,\n",
              " 56,\n",
              " 91,\n",
              " 600,\n",
              " 107,\n",
              " 135,\n",
              " 291,\n",
              " 257,\n",
              " 107,\n",
              " 271,\n",
              " 634,\n",
              " 500,\n",
              " 500,\n",
              " 91,\n",
              " 453,\n",
              " 365,\n",
              " 552,\n",
              " 107,\n",
              " 395,\n",
              " 500,\n",
              " 140,\n",
              " 129,\n",
              " 500,\n",
              " 500,\n",
              " 140,\n",
              " 500,\n",
              " 500,\n",
              " 500,\n",
              " 66,\n",
              " 450,\n",
              " 198,\n",
              " 169,\n",
              " 225,\n",
              " 601,\n",
              " 73,\n",
              " 500,\n",
              " 500,\n",
              " 500,\n",
              " 140,\n",
              " 421,\n",
              " 140,\n",
              " 500,\n",
              " 140,\n",
              " 500,\n",
              " 500,\n",
              " 500,\n",
              " 140,\n",
              " 323,\n",
              " 581,\n",
              " 140,\n",
              " 500,\n",
              " 500,\n",
              " 271,\n",
              " 500,\n",
              " 500,\n",
              " 413,\n",
              " 376,\n",
              " 140,\n",
              " 129,\n",
              " 386,\n",
              " 265,\n",
              " 153,\n",
              " 119,\n",
              " 131,\n",
              " 140,\n",
              " 19,\n",
              " 500,\n",
              " 500,\n",
              " 500,\n",
              " 271,\n",
              " 140,\n",
              " 500,\n",
              " 140,\n",
              " 378,\n",
              " 271,\n",
              " 518,\n",
              " 555,\n",
              " 539,\n",
              " 500,\n",
              " 140,\n",
              " 500,\n",
              " 140,\n",
              " 271,\n",
              " 552,\n",
              " 107,\n",
              " 634,\n",
              " 467,\n",
              " 596,\n",
              " 107,\n",
              " 271,\n",
              " 10,\n",
              " 566,\n",
              " 500,\n",
              " 140,\n",
              " 575,\n",
              " 447,\n",
              " 280,\n",
              " 68,\n",
              " 500,\n",
              " 500,\n",
              " 500,\n",
              " 198,\n",
              " 169,\n",
              " 225,\n",
              " 500,\n",
              " 323,\n",
              " 581,\n",
              " 500,\n",
              " 500,\n",
              " 140,\n",
              " 140,\n",
              " 500,\n",
              " 140,\n",
              " 318,\n",
              " 401,\n",
              " 539,\n",
              " 140,\n",
              " 271,\n",
              " 431,\n",
              " 507,\n",
              " 9,\n",
              " 153,\n",
              " 164,\n",
              " 552,\n",
              " 107,\n",
              " 298,\n",
              " 408,\n",
              " 500,\n",
              " 453,\n",
              " 107,\n",
              " 271,\n",
              " 634,\n",
              " 500,\n",
              " 271,\n",
              " 250,\n",
              " 68,\n",
              " 500,\n",
              " 271,\n",
              " 35,\n",
              " 323,\n",
              " 608,\n",
              " 500,\n",
              " 96,\n",
              " 140,\n",
              " 500,\n",
              " 140,\n",
              " 140,\n",
              " 500,\n",
              " 56,\n",
              " 91,\n",
              " 378,\n",
              " 500,\n",
              " 500,\n",
              " 500,\n",
              " 500,\n",
              " 140,\n",
              " 140,\n",
              " 413,\n",
              " 376,\n",
              " 140,\n",
              " 140,\n",
              " 500,\n",
              " 250,\n",
              " 122,\n",
              " 334,\n",
              " 351,\n",
              " 107,\n",
              " 394,\n",
              " 245,\n",
              " 596,\n",
              " 107,\n",
              " 625,\n",
              " 271,\n",
              " 132,\n",
              " 230,\n",
              " 599,\n",
              " 500,\n",
              " 500,\n",
              " 140,\n",
              " 140,\n",
              " 519,\n",
              " 140,\n",
              " 140,\n",
              " 500,\n",
              " 500,\n",
              " 56,\n",
              " 68,\n",
              " 96,\n",
              " 140,\n",
              " 413,\n",
              " 376,\n",
              " 500,\n",
              " 340,\n",
              " 500,\n",
              " 500,\n",
              " 140,\n",
              " 500,\n",
              " 500,\n",
              " 119,\n",
              " 524,\n",
              " 140,\n",
              " 500,\n",
              " 140,\n",
              " 500,\n",
              " 323,\n",
              " 608,\n",
              " 140,\n",
              " 500,\n",
              " 500,\n",
              " 140,\n",
              " 140,\n",
              " 140,\n",
              " 500,\n",
              " 500,\n",
              " 500,\n",
              " 119,\n",
              " 524,\n",
              " 500,\n",
              " 410,\n",
              " 108,\n",
              " 500,\n",
              " 500,\n",
              " 500,\n",
              " 410,\n",
              " 108,\n",
              " 500,\n",
              " 500,\n",
              " 20,\n",
              " 271,\n",
              " 552,\n",
              " 107,\n",
              " 634,\n",
              " 467,\n",
              " 596,\n",
              " 107,\n",
              " 271,\n",
              " 10,\n",
              " 173,\n",
              " 500,\n",
              " 500,\n",
              " 140,\n",
              " 271,\n",
              " 355,\n",
              " 626,\n",
              " 378,\n",
              " 280,\n",
              " 68,\n",
              " 386,\n",
              " 500,\n",
              " 140,\n",
              " 500,\n",
              " 140,\n",
              " 140,\n",
              " 500,\n",
              " 140,\n",
              " 132,\n",
              " 271,\n",
              " 230,\n",
              " 500,\n",
              " 500,\n",
              " 140,\n",
              " 518,\n",
              " 237,\n",
              " 140,\n",
              " 500,\n",
              " 500,\n",
              " 500,\n",
              " 378,\n",
              " 500,\n",
              " 500,\n",
              " 140,\n",
              " 607,\n",
              " 313,\n",
              " 140,\n",
              " 140,\n",
              " 500,\n",
              " 500,\n",
              " 500,\n",
              " 271,\n",
              " 50,\n",
              " 414,\n",
              " 500,\n",
              " 500,\n",
              " 185,\n",
              " 386,\n",
              " 355,\n",
              " 626,\n",
              " 271,\n",
              " 140,\n",
              " 500,\n",
              " 500,\n",
              " 140,\n",
              " 500,\n",
              " 271,\n",
              " 132,\n",
              " 230,\n",
              " 464,\n",
              " 271,\n",
              " 35,\n",
              " 298,\n",
              " 499,\n",
              " 607,\n",
              " 313,\n",
              " 500,\n",
              " 66,\n",
              " 450,\n",
              " 7,\n",
              " 36,\n",
              " 257,\n",
              " 107,\n",
              " 386,\n",
              " 96,\n",
              " 557,\n",
              " 500,\n",
              " 140,\n",
              " 271,\n",
              " 500,\n",
              " 575,\n",
              " 447,\n",
              " 500,\n",
              " 500,\n",
              " 500,\n",
              " 431,\n",
              " 507,\n",
              " 123,\n",
              " 472,\n",
              " 471,\n",
              " 107,\n",
              " 617,\n",
              " 552,\n",
              " 107,\n",
              " 170,\n",
              " 500,\n",
              " 140,\n",
              " 119,\n",
              " 524,\n",
              " 500,\n",
              " 500,\n",
              " 280,\n",
              " 500,\n",
              " 140,\n",
              " 500,\n",
              " 500,\n",
              " 318,\n",
              " 401,\n",
              " 539,\n",
              " 500,\n",
              " 9,\n",
              " 265,\n",
              " 153,\n",
              " 119,\n",
              " 131,\n",
              " 280,\n",
              " 500,\n",
              " 212,\n",
              " 500,\n",
              " 500,\n",
              " 96,\n",
              " 232,\n",
              " 587,\n",
              " 107,\n",
              " 94,\n",
              " 500,\n",
              " 378,\n",
              " 627,\n",
              " 299,\n",
              " 552,\n",
              " 107,\n",
              " 92,\n",
              " 140,\n",
              " 467,\n",
              " 140,\n",
              " 265,\n",
              " 500,\n",
              " 140,\n",
              " 500,\n",
              " 105,\n",
              " 140,\n",
              " 500,\n",
              " 485,\n",
              " 183,\n",
              " 500,\n",
              " 634,\n",
              " 388,\n",
              " 596,\n",
              " 107,\n",
              " 634,\n",
              " 520,\n",
              " 500,\n",
              " 529,\n",
              " 386,\n",
              " 500,\n",
              " 500,\n",
              " 140,\n",
              " 500,\n",
              " 500,\n",
              " 271,\n",
              " 132,\n",
              " 230,\n",
              " 140,\n",
              " 361,\n",
              " 140,\n",
              " 140,\n",
              " 500,\n",
              " 140,\n",
              " 271,\n",
              " 347,\n",
              " 156,\n",
              " 250,\n",
              " 49,\n",
              " 500,\n",
              " 500,\n",
              " 500,\n",
              " 500,\n",
              " 311,\n",
              " 284,\n",
              " 500,\n",
              " 140,\n",
              " 500,\n",
              " 500,\n",
              " 500,\n",
              " 464,\n",
              " 500,\n",
              " 96,\n",
              " 251,\n",
              " 271,\n",
              " 518,\n",
              " 555,\n",
              " 539,\n",
              " 500,\n",
              " 271,\n",
              " 250,\n",
              " 10,\n",
              " 140,\n",
              " 500,\n",
              " 475,\n",
              " 507,\n",
              " 50,\n",
              " 446,\n",
              " 120,\n",
              " 97,\n",
              " 58,\n",
              " 353,\n",
              " 107,\n",
              " 271,\n",
              " 470,\n",
              " 140,\n",
              " 458,\n",
              " 517,\n",
              " 500,\n",
              " 323,\n",
              " 608,\n",
              " 140,\n",
              " 68,\n",
              " 593,\n",
              " 320,\n",
              " 454,\n",
              " 500,\n",
              " 500,\n",
              " 271,\n",
              " 35,\n",
              " 298,\n",
              " 499,\n",
              " 500,\n",
              " 140,\n",
              " 140,\n",
              " 500,\n",
              " 500,\n",
              " 140,\n",
              " 500,\n",
              " 378,\n",
              " 132,\n",
              " 271,\n",
              " 230,\n",
              " 140,\n",
              " 140,\n",
              " 271,\n",
              " 35,\n",
              " 323,\n",
              " 608,\n",
              " 500,\n",
              " 140,\n",
              " 386,\n",
              " 250,\n",
              " 500,\n",
              " 140,\n",
              " 271,\n",
              " 35,\n",
              " 298,\n",
              " 499,\n",
              " 500,\n",
              " 68,\n",
              " 593,\n",
              " 320,\n",
              " 140,\n",
              " 140,\n",
              " 140,\n",
              " 569,\n",
              " 291,\n",
              " 500,\n",
              " 500,\n",
              " 500,\n",
              " 500,\n",
              " 140,\n",
              " 634,\n",
              " 388,\n",
              " 596,\n",
              " 107,\n",
              " 634,\n",
              " 520,\n",
              " 500,\n",
              " 271,\n",
              " 580,\n",
              " 552,\n",
              " 107,\n",
              " 342,\n",
              " 140,\n",
              " 226,\n",
              " 500,\n",
              " 500,\n",
              " 500,\n",
              " 50,\n",
              " 414,\n",
              " 500,\n",
              " 140,\n",
              " 519,\n",
              " 140,\n",
              " 140,\n",
              " 500,\n",
              " 634,\n",
              " 350,\n",
              " 119,\n",
              " 524,\n",
              " 270,\n",
              " 257,\n",
              " 550,\n",
              " 405,\n",
              " 145,\n",
              " 140,\n",
              " 140,\n",
              " 275,\n",
              " 257,\n",
              " 107,\n",
              " 323,\n",
              " 27,\n",
              " 500,\n",
              " 500,\n",
              " 500,\n",
              " 56,\n",
              " 500,\n",
              " 500,\n",
              " 378,\n",
              " 500,\n",
              " 77,\n",
              " 140,\n",
              " 257,\n",
              " 107,\n",
              " 251,\n",
              " 257,\n",
              " 107,\n",
              " 113,\n",
              " 416,\n",
              " 500,\n",
              " 500,\n",
              " 615,\n",
              " 243,\n",
              " 500,\n",
              " 140,\n",
              " 500,\n",
              " 500,\n",
              " 140,\n",
              " 500,\n",
              " 140,\n",
              " 271,\n",
              " 347,\n",
              " 230,\n",
              " 500,\n",
              " 140,\n",
              " 500,\n",
              " 140,\n",
              " 271,\n",
              " 161,\n",
              " 552,\n",
              " 333,\n",
              " 140,\n",
              " 386,\n",
              " 500,\n",
              " 9,\n",
              " 140,\n",
              " 500,\n",
              " 140,\n",
              " 271,\n",
              " 580,\n",
              " 140,\n",
              " 500,\n",
              " 140,\n",
              " 318,\n",
              " 339,\n",
              " 458,\n",
              " 517,\n",
              " 140,\n",
              " 140,\n",
              " 386,\n",
              " 271,\n",
              " 580,\n",
              " 386,\n",
              " 250,\n",
              " 500,\n",
              " 129,\n",
              " 271,\n",
              " 140,\n",
              " 3,\n",
              " 500,\n",
              " 500,\n",
              " 119,\n",
              " 524,\n",
              " 500,\n",
              " 461,\n",
              " 488,\n",
              " 500,\n",
              " 140,\n",
              " 500,\n",
              " 140,\n",
              " 140,\n",
              " 271,\n",
              " 250,\n",
              " 500,\n",
              " 140,\n",
              " 271,\n",
              " 347,\n",
              " 230,\n",
              " 140,\n",
              " 271,\n",
              " 250,\n",
              " 173,\n",
              " 206,\n",
              " 198,\n",
              " 327,\n",
              " 140,\n",
              " 271,\n",
              " 500,\n",
              " 500,\n",
              " 500,\n",
              " 413,\n",
              " 140,\n",
              " 140,\n",
              " 140,\n",
              " 250,\n",
              " 500,\n",
              " 436,\n",
              " 500,\n",
              " 68,\n",
              " 271,\n",
              " 580,\n",
              " 500,\n",
              " 500,\n",
              " 500,\n",
              " 500,\n",
              " 500,\n",
              " 280,\n",
              " 129,\n",
              " 140,\n",
              " 500,\n",
              " 140,\n",
              " 500,\n",
              " 140,\n",
              " 386,\n",
              " 516,\n",
              " 453,\n",
              " 107,\n",
              " 584,\n",
              " 500,\n",
              " 260,\n",
              " 405,\n",
              " 451,\n",
              " 500,\n",
              " 304,\n",
              " 250,\n",
              " 558,\n",
              " 300,\n",
              " 140,\n",
              " 500,\n",
              " 140,\n",
              " 500,\n",
              " 140,\n",
              " 140,\n",
              " 300,\n",
              " 140,\n",
              " 140,\n",
              " 140,\n",
              " 329,\n",
              " 557,\n",
              " 142,\n",
              " 107,\n",
              " 48,\n",
              " 578,\n",
              " 500,\n",
              " 410,\n",
              " 108,\n",
              " 140,\n",
              " 271,\n",
              " 580,\n",
              " 140,\n",
              " 500,\n",
              " 500,\n",
              " 140,\n",
              " 378,\n",
              " 129,\n",
              " 500,\n",
              " 500,\n",
              " 597,\n",
              " 500,\n",
              " 489,\n",
              " 500,\n",
              " 500,\n",
              " 500,\n",
              " 500,\n",
              " 140,\n",
              " 386,\n",
              " 185,\n",
              " 250,\n",
              " 140,\n",
              " 500,\n",
              " 500,\n",
              " 500,\n",
              " 140,\n",
              " 127,\n",
              " 140,\n",
              " 500,\n",
              " 300,\n",
              " 593,\n",
              " 320,\n",
              " 129,\n",
              " 7,\n",
              " 36,\n",
              " 257,\n",
              " 107,\n",
              " 386,\n",
              " 96,\n",
              " 557,\n",
              " 500,\n",
              " 140,\n",
              " 173,\n",
              " 140,\n",
              " 543,\n",
              " 257,\n",
              " 107,\n",
              " 271,\n",
              " 10,\n",
              " 132,\n",
              " 386,\n",
              " 140,\n",
              " 378,\n",
              " 172,\n",
              " 265,\n",
              " 500,\n",
              " 500,\n",
              " 500,\n",
              " 140,\n",
              " 500,\n",
              " 500,\n",
              " 500,\n",
              " 3,\n",
              " 500,\n",
              " 500,\n",
              " 7,\n",
              " 36,\n",
              " 257,\n",
              " 107,\n",
              " 386,\n",
              " 96,\n",
              " 557,\n",
              " 601,\n",
              " 73,\n",
              " 316,\n",
              " 323,\n",
              " 608,\n",
              " 271,\n",
              " 580,\n",
              " 280,\n",
              " 58,\n",
              " 387,\n",
              " 226,\n",
              " 500,\n",
              " 140,\n",
              " 500,\n",
              " 500,\n",
              " 271,\n",
              " 593,\n",
              " 320,\n",
              " 129,\n",
              " 271,\n",
              " 132,\n",
              " 230,\n",
              " 140,\n",
              " 500,\n",
              " 615,\n",
              " 634,\n",
              " 634,\n",
              " 500,\n",
              " 280,\n",
              " 68,\n",
              " 500,\n",
              " 500,\n",
              " 140,\n",
              " 271,\n",
              " 580,\n",
              " 140,\n",
              " 271,\n",
              " 580,\n",
              " 19,\n",
              " 500,\n",
              " 500,\n",
              " 453,\n",
              " 365,\n",
              " 552,\n",
              " 107,\n",
              " 395,\n",
              " 500,\n",
              " 500,\n",
              " 140,\n",
              " 140,\n",
              " 140,\n",
              " 378,\n",
              " 271,\n",
              " 132,\n",
              " 230,\n",
              " ...]"
            ]
          },
          "metadata": {},
          "execution_count": 58
        }
      ]
    },
    {
      "cell_type": "code",
      "source": [
        "dictionary.token_dc[637]"
      ],
      "metadata": {
        "colab": {
          "base_uri": "https://localhost:8080/",
          "height": 36
        },
        "id": "c1rHGLGzXHxJ",
        "outputId": "31d225aa-9730-4bcc-db90-1be00c02d227"
      },
      "execution_count": null,
      "outputs": [
        {
          "output_type": "execute_result",
          "data": {
            "text/plain": [
              "'<stop>'"
            ],
            "application/vnd.google.colaboratory.intrinsic+json": {
              "type": "string"
            }
          },
          "metadata": {},
          "execution_count": 62
        }
      ]
    },
    {
      "cell_type": "code",
      "source": [
        "import statistics\n",
        "statistics.mode(xt)"
      ],
      "metadata": {
        "colab": {
          "base_uri": "https://localhost:8080/"
        },
        "id": "Gou_epvBTimo",
        "outputId": "21b9c073-544b-4948-958f-4f42f7e1aa03"
      },
      "execution_count": null,
      "outputs": [
        {
          "output_type": "execute_result",
          "data": {
            "text/plain": [
              "500"
            ]
          },
          "metadata": {},
          "execution_count": 59
        }
      ]
    },
    {
      "cell_type": "code",
      "source": [
        "m.predict([imfeat,ip])"
      ],
      "metadata": {
        "colab": {
          "base_uri": "https://localhost:8080/"
        },
        "id": "sT254japRAOq",
        "outputId": "091802a6-25ee-48c9-c6f3-ccf515527bda"
      },
      "execution_count": null,
      "outputs": [
        {
          "output_type": "stream",
          "name": "stdout",
          "text": [
            "1/1 [==============================] - 0s 59ms/step\n"
          ]
        },
        {
          "output_type": "execute_result",
          "data": {
            "text/plain": [
              "array([[[0.00156739, 0.0015674 , 0.0015674 , 0.0015674 , 0.0015674 ,\n",
              "         0.0015674 , 0.0015674 , 0.0015674 , 0.0015674 , 0.0015674 ,\n",
              "         0.0015674 , 0.0015674 , 0.00156739, 0.0015674 , 0.0015674 ,\n",
              "         0.0015674 , 0.00156739, 0.0015674 , 0.00156739, 0.0015674 ,\n",
              "         0.0015674 , 0.0015674 , 0.0015674 , 0.0015674 , 0.0015674 ,\n",
              "         0.0015674 , 0.0015674 , 0.0015674 , 0.0015674 , 0.0015674 ,\n",
              "         0.0015674 , 0.0015674 , 0.00156741, 0.0015674 , 0.0015674 ,\n",
              "         0.0015674 , 0.00156741, 0.0015674 , 0.0015674 , 0.00156739,\n",
              "         0.00156739, 0.0015674 , 0.0015674 , 0.0015674 , 0.0015674 ,\n",
              "         0.0015674 , 0.0015674 , 0.0015674 , 0.0015674 , 0.0015674 ,\n",
              "         0.0015674 , 0.00156739, 0.0015674 , 0.0015674 , 0.0015674 ,\n",
              "         0.0015674 , 0.0015674 , 0.0015674 , 0.0015674 , 0.00156739,\n",
              "         0.00156739, 0.0015674 , 0.0015674 , 0.0015674 , 0.0015674 ,\n",
              "         0.0015674 , 0.0015674 , 0.0015674 , 0.00156741, 0.0015674 ,\n",
              "         0.0015674 , 0.0015674 , 0.00156739, 0.0015674 , 0.0015674 ,\n",
              "         0.0015674 , 0.00156739, 0.0015674 , 0.0015674 , 0.0015674 ,\n",
              "         0.0015674 , 0.0015674 , 0.00156739, 0.0015674 , 0.0015674 ,\n",
              "         0.00156739, 0.0015674 , 0.0015674 , 0.0015674 , 0.0015674 ,\n",
              "         0.0015674 , 0.0015674 , 0.0015674 , 0.00156739, 0.0015674 ,\n",
              "         0.0015674 , 0.00156741, 0.00156739, 0.00156739, 0.00156739,\n",
              "         0.0015674 , 0.0015674 , 0.0015674 , 0.0015674 , 0.0015674 ,\n",
              "         0.0015674 , 0.00156739, 0.00156741, 0.0015674 , 0.00156739,\n",
              "         0.0015674 , 0.0015674 , 0.0015674 , 0.0015674 , 0.0015674 ,\n",
              "         0.0015674 , 0.0015674 , 0.00156739, 0.0015674 , 0.00156741,\n",
              "         0.0015674 , 0.00156739, 0.00156739, 0.0015674 , 0.0015674 ,\n",
              "         0.00156739, 0.0015674 , 0.0015674 , 0.00156739, 0.0015674 ,\n",
              "         0.0015674 , 0.0015674 , 0.0015674 , 0.00156739, 0.0015674 ,\n",
              "         0.0015674 , 0.0015674 , 0.0015674 , 0.0015674 , 0.0015674 ,\n",
              "         0.00156746, 0.0015674 , 0.0015674 , 0.0015674 , 0.0015674 ,\n",
              "         0.00156739, 0.0015674 , 0.00156739, 0.00156739, 0.0015674 ,\n",
              "         0.0015674 , 0.0015674 , 0.0015674 , 0.0015674 , 0.0015674 ,\n",
              "         0.0015674 , 0.0015674 , 0.0015674 , 0.0015674 , 0.0015674 ,\n",
              "         0.0015674 , 0.00156739, 0.00156739, 0.0015674 , 0.00156739,\n",
              "         0.0015674 , 0.0015674 , 0.0015674 , 0.0015674 , 0.00156741,\n",
              "         0.0015674 , 0.0015674 , 0.0015674 , 0.0015674 , 0.00156739,\n",
              "         0.00156739, 0.00156739, 0.00156739, 0.00156739, 0.00156739,\n",
              "         0.0015674 , 0.0015674 , 0.0015674 , 0.0015674 , 0.0015674 ,\n",
              "         0.00156739, 0.0015674 , 0.0015674 , 0.0015674 , 0.0015674 ,\n",
              "         0.0015674 , 0.00156739, 0.0015674 , 0.0015674 , 0.0015674 ,\n",
              "         0.00156739, 0.0015674 , 0.00156739, 0.0015674 , 0.00156739,\n",
              "         0.0015674 , 0.0015674 , 0.0015674 , 0.0015674 , 0.0015674 ,\n",
              "         0.0015674 , 0.0015674 , 0.00156739, 0.0015674 , 0.0015674 ,\n",
              "         0.00156739, 0.00156739, 0.00156739, 0.0015674 , 0.0015674 ,\n",
              "         0.0015674 , 0.0015674 , 0.0015674 , 0.0015674 , 0.00156739,\n",
              "         0.0015674 , 0.0015674 , 0.00156739, 0.0015674 , 0.0015674 ,\n",
              "         0.0015674 , 0.0015674 , 0.0015674 , 0.0015674 , 0.0015674 ,\n",
              "         0.0015674 , 0.0015674 , 0.0015674 , 0.0015674 , 0.00156739,\n",
              "         0.0015674 , 0.0015674 , 0.0015674 , 0.0015674 , 0.0015674 ,\n",
              "         0.0015674 , 0.00156739, 0.0015674 , 0.0015674 , 0.00156739,\n",
              "         0.0015674 , 0.0015674 , 0.00156739, 0.0015674 , 0.0015674 ,\n",
              "         0.0015674 , 0.0015674 , 0.0015674 , 0.0015674 , 0.0015674 ,\n",
              "         0.0015674 , 0.0015674 , 0.0015674 , 0.0015674 , 0.0015674 ,\n",
              "         0.0015674 , 0.0015674 , 0.0015674 , 0.0015674 , 0.0015674 ,\n",
              "         0.0015674 , 0.0015674 , 0.00156739, 0.0015674 , 0.00156739,\n",
              "         0.0015674 , 0.00156743, 0.0015674 , 0.0015674 , 0.00156739,\n",
              "         0.0015674 , 0.0015674 , 0.0015674 , 0.00156739, 0.0015674 ,\n",
              "         0.0015674 , 0.0015674 , 0.0015674 , 0.0015674 , 0.0015674 ,\n",
              "         0.0015674 , 0.00156739, 0.00156739, 0.0015674 , 0.00156739,\n",
              "         0.0015674 , 0.0015674 , 0.0015674 , 0.00156739, 0.0015674 ,\n",
              "         0.0015674 , 0.00156739, 0.0015674 , 0.00156741, 0.0015674 ,\n",
              "         0.0015674 , 0.0015674 , 0.0015674 , 0.0015674 , 0.0015674 ,\n",
              "         0.0015674 , 0.0015674 , 0.00156739, 0.00156739, 0.0015674 ,\n",
              "         0.0015674 , 0.0015674 , 0.0015674 , 0.0015674 , 0.0015674 ,\n",
              "         0.0015674 , 0.0015674 , 0.0015674 , 0.0015674 , 0.0015674 ,\n",
              "         0.0015674 , 0.0015674 , 0.00156739, 0.0015674 , 0.0015674 ,\n",
              "         0.00156739, 0.00156739, 0.0015674 , 0.0015674 , 0.0015674 ,\n",
              "         0.00156739, 0.0015674 , 0.0015674 , 0.0015674 , 0.0015674 ,\n",
              "         0.0015674 , 0.0015674 , 0.0015674 , 0.0015674 , 0.00156739,\n",
              "         0.0015674 , 0.0015674 , 0.00156739, 0.0015674 , 0.0015674 ,\n",
              "         0.00156739, 0.0015674 , 0.0015674 , 0.0015674 , 0.0015674 ,\n",
              "         0.0015674 , 0.0015674 , 0.0015674 , 0.0015674 , 0.00156739,\n",
              "         0.0015674 , 0.00156739, 0.0015674 , 0.0015674 , 0.0015674 ,\n",
              "         0.0015674 , 0.0015674 , 0.0015674 , 0.0015674 , 0.00156739,\n",
              "         0.0015674 , 0.0015674 , 0.00156739, 0.0015674 , 0.0015674 ,\n",
              "         0.0015674 , 0.0015674 , 0.0015674 , 0.0015674 , 0.0015674 ,\n",
              "         0.00156739, 0.0015674 , 0.0015674 , 0.0015674 , 0.0015674 ,\n",
              "         0.00156739, 0.0015674 , 0.00156739, 0.0015674 , 0.0015674 ,\n",
              "         0.0015674 , 0.00156741, 0.0015674 , 0.0015674 , 0.0015674 ,\n",
              "         0.0015674 , 0.0015674 , 0.00156739, 0.0015674 , 0.0015674 ,\n",
              "         0.0015674 , 0.00156739, 0.0015674 , 0.00156739, 0.0015674 ,\n",
              "         0.0015674 , 0.0015674 , 0.0015674 , 0.0015674 , 0.0015674 ,\n",
              "         0.0015674 , 0.00156739, 0.0015674 , 0.0015674 , 0.0015674 ,\n",
              "         0.0015674 , 0.0015674 , 0.0015674 , 0.0015674 , 0.00156741,\n",
              "         0.0015674 , 0.0015674 , 0.00156739, 0.0015674 , 0.0015674 ,\n",
              "         0.0015674 , 0.0015674 , 0.0015674 , 0.0015674 , 0.0015674 ,\n",
              "         0.0015674 , 0.0015674 , 0.0015674 , 0.00156739, 0.00156739,\n",
              "         0.0015674 , 0.0015674 , 0.0015674 , 0.0015674 , 0.0015674 ,\n",
              "         0.00156739, 0.0015674 , 0.00156739, 0.0015674 , 0.0015674 ,\n",
              "         0.0015674 , 0.00156739, 0.00156739, 0.00156739, 0.0015674 ,\n",
              "         0.0015674 , 0.0015674 , 0.0015674 , 0.0015674 , 0.0015674 ,\n",
              "         0.0015674 , 0.0015674 , 0.00156739, 0.0015674 , 0.0015674 ,\n",
              "         0.00156739, 0.0015674 , 0.00156739, 0.0015674 , 0.00156739,\n",
              "         0.0015674 , 0.0015674 , 0.0015674 , 0.0015674 , 0.0015674 ,\n",
              "         0.0015674 , 0.0015674 , 0.0015674 , 0.0015674 , 0.0015674 ,\n",
              "         0.00156739, 0.0015674 , 0.0015674 , 0.0015674 , 0.0015674 ,\n",
              "         0.0015674 , 0.0015674 , 0.00156739, 0.0015674 , 0.0015674 ,\n",
              "         0.0015674 , 0.0015674 , 0.0015674 , 0.0015674 , 0.0015674 ,\n",
              "         0.0015674 , 0.00156739, 0.0015674 , 0.0015674 , 0.0015674 ,\n",
              "         0.0015674 , 0.0015674 , 0.0015674 , 0.0015674 , 0.0015674 ,\n",
              "         0.0015674 , 0.00156739, 0.0015674 , 0.00156739, 0.0015674 ,\n",
              "         0.00156749, 0.0015674 , 0.0015674 , 0.0015674 , 0.0015674 ,\n",
              "         0.0015674 , 0.0015674 , 0.0015674 , 0.0015674 , 0.0015674 ,\n",
              "         0.0015674 , 0.00156739, 0.0015674 , 0.0015674 , 0.00156739,\n",
              "         0.0015674 , 0.0015674 , 0.0015674 , 0.0015674 , 0.0015674 ,\n",
              "         0.00156739, 0.0015674 , 0.0015674 , 0.0015674 , 0.0015674 ,\n",
              "         0.0015674 , 0.0015674 , 0.0015674 , 0.0015674 , 0.0015674 ,\n",
              "         0.0015674 , 0.0015674 , 0.0015674 , 0.0015674 , 0.0015674 ,\n",
              "         0.0015674 , 0.00156739, 0.0015674 , 0.00156739, 0.0015674 ,\n",
              "         0.00156739, 0.0015674 , 0.0015674 , 0.00156739, 0.00156739,\n",
              "         0.0015674 , 0.00156739, 0.00156741, 0.0015674 , 0.0015674 ,\n",
              "         0.0015674 , 0.0015674 , 0.0015674 , 0.0015674 , 0.0015674 ,\n",
              "         0.0015674 , 0.0015674 , 0.0015674 , 0.0015674 , 0.0015674 ,\n",
              "         0.0015674 , 0.0015674 , 0.00156739, 0.0015674 , 0.0015674 ,\n",
              "         0.0015674 , 0.00156741, 0.0015674 , 0.0015674 , 0.00156739,\n",
              "         0.0015674 , 0.00156739, 0.00156739, 0.00156739, 0.0015674 ,\n",
              "         0.0015674 , 0.0015674 , 0.0015674 , 0.0015674 , 0.0015674 ,\n",
              "         0.0015674 , 0.0015674 , 0.0015674 , 0.0015674 , 0.0015674 ,\n",
              "         0.0015674 , 0.0015674 , 0.0015674 , 0.00156739, 0.00156739,\n",
              "         0.00156739, 0.00156739, 0.0015674 , 0.0015674 , 0.0015674 ,\n",
              "         0.00156739, 0.0015674 , 0.0015674 , 0.00156739, 0.00156739,\n",
              "         0.00156741, 0.0015674 , 0.00156739, 0.00156739, 0.0015674 ,\n",
              "         0.0015674 , 0.00156739, 0.0015674 , 0.00156741, 0.0015674 ,\n",
              "         0.0015674 , 0.0015674 , 0.0015674 , 0.0015674 , 0.0015674 ,\n",
              "         0.0015674 , 0.0015674 , 0.00156739, 0.0015674 , 0.00156739,\n",
              "         0.0015674 , 0.0015674 , 0.0015674 , 0.0015674 , 0.0015674 ,\n",
              "         0.0015674 , 0.0015674 , 0.0015674 , 0.0015674 , 0.00156739,\n",
              "         0.0015674 , 0.0015674 , 0.0015674 , 0.00156741, 0.00156741,\n",
              "         0.0015674 , 0.00156739, 0.0015674 ]]], dtype=float32)"
            ]
          },
          "metadata": {},
          "execution_count": 68
        }
      ]
    },
    {
      "cell_type": "code",
      "source": [
        "outputs=[]\n",
        "r_scores=[]\n",
        "b_scores=[]\n",
        "df_test=pd.read_csv(\"./VQA_RAD/test.csv\", sep='|')\n",
        "for i in range(len(df_test)):\n",
        "  op=op_gen(m,df_test['IMAGEID'].iloc[i],df_test['QUESTION'].iloc[i],dictionary.mxlenp,dictionary.mxlen)\n",
        "  #finally:\n",
        "  #return model,outputs,trn_inp,r_scores,b_scores\n",
        "  outputs.append(op)\n",
        "  norm_ans=normalize_answer(df_test['ANSWER'].iloc[i])\n",
        "  r=rouge(op,norm_ans)\n",
        "  b=sacrebleu(op,norm_ans.split())\n",
        "  r_scores.append(r)\n",
        "  b_scores.append(b)\n"
      ],
      "metadata": {
        "id": "S6TCcQbW6oue"
      },
      "execution_count": null,
      "outputs": []
    },
    {
      "cell_type": "code",
      "source": [
        "np.mean(r)"
      ],
      "metadata": {
        "colab": {
          "base_uri": "https://localhost:8080/"
        },
        "id": "I0ujyQARY8ak",
        "outputId": "96bea05b-936a-4f81-85c6-75a9d5d54c6d"
      },
      "execution_count": null,
      "outputs": [
        {
          "output_type": "execute_result",
          "data": {
            "text/plain": [
              "0.0"
            ]
          },
          "metadata": {},
          "execution_count": 65
        }
      ]
    },
    {
      "cell_type": "code",
      "source": [
        "np.mean(b)"
      ],
      "metadata": {
        "colab": {
          "base_uri": "https://localhost:8080/"
        },
        "id": "8ggdzDF3ZBEa",
        "outputId": "a609b88d-d764-464e-82b9-4d5696a044b8"
      },
      "execution_count": null,
      "outputs": [
        {
          "output_type": "execute_result",
          "data": {
            "text/plain": [
              "0.0"
            ]
          },
          "metadata": {},
          "execution_count": 66
        }
      ]
    },
    {
      "cell_type": "code",
      "source": [
        "outputs"
      ],
      "metadata": {
        "colab": {
          "base_uri": "https://localhost:8080/"
        },
        "id": "S3C4IE_58Lx5",
        "outputId": "9133ae07-d726-4b78-e754-ed4674f2df4f"
      },
      "execution_count": null,
      "outputs": [
        {
          "output_type": "execute_result",
          "data": {
            "text/plain": [
              "['',\n",
              " '',\n",
              " '',\n",
              " '',\n",
              " '',\n",
              " '',\n",
              " '',\n",
              " '',\n",
              " '',\n",
              " '',\n",
              " '',\n",
              " '',\n",
              " '',\n",
              " '',\n",
              " '',\n",
              " '',\n",
              " '',\n",
              " '',\n",
              " '',\n",
              " '',\n",
              " '',\n",
              " '',\n",
              " '',\n",
              " '',\n",
              " '',\n",
              " '',\n",
              " '',\n",
              " '',\n",
              " '',\n",
              " '',\n",
              " '',\n",
              " '',\n",
              " '',\n",
              " '',\n",
              " '',\n",
              " '',\n",
              " '',\n",
              " '',\n",
              " '',\n",
              " '',\n",
              " '',\n",
              " '',\n",
              " '',\n",
              " '',\n",
              " '',\n",
              " '',\n",
              " '',\n",
              " '',\n",
              " '',\n",
              " '',\n",
              " '',\n",
              " '',\n",
              " '',\n",
              " '',\n",
              " '',\n",
              " '',\n",
              " '',\n",
              " '',\n",
              " '',\n",
              " '',\n",
              " '',\n",
              " '',\n",
              " '',\n",
              " '',\n",
              " '',\n",
              " '',\n",
              " '',\n",
              " '',\n",
              " '',\n",
              " '',\n",
              " '',\n",
              " '',\n",
              " '',\n",
              " '',\n",
              " '',\n",
              " '',\n",
              " '',\n",
              " '',\n",
              " '',\n",
              " '',\n",
              " '',\n",
              " '',\n",
              " '',\n",
              " '',\n",
              " '',\n",
              " '',\n",
              " '',\n",
              " '',\n",
              " '',\n",
              " '',\n",
              " '',\n",
              " '',\n",
              " '',\n",
              " '',\n",
              " '',\n",
              " '',\n",
              " '',\n",
              " '',\n",
              " '',\n",
              " '',\n",
              " '',\n",
              " '',\n",
              " '',\n",
              " '',\n",
              " '',\n",
              " '',\n",
              " '',\n",
              " '',\n",
              " '',\n",
              " '',\n",
              " '',\n",
              " '',\n",
              " '',\n",
              " '',\n",
              " '',\n",
              " '',\n",
              " '',\n",
              " '',\n",
              " '',\n",
              " '',\n",
              " '',\n",
              " '',\n",
              " '',\n",
              " '',\n",
              " '',\n",
              " '',\n",
              " '',\n",
              " '',\n",
              " '',\n",
              " '',\n",
              " '',\n",
              " '',\n",
              " '',\n",
              " '',\n",
              " '',\n",
              " '',\n",
              " '',\n",
              " '',\n",
              " '',\n",
              " '',\n",
              " '',\n",
              " '',\n",
              " '',\n",
              " '',\n",
              " '',\n",
              " '',\n",
              " '',\n",
              " '',\n",
              " '',\n",
              " '',\n",
              " '',\n",
              " '',\n",
              " '',\n",
              " '',\n",
              " '',\n",
              " '',\n",
              " '',\n",
              " '',\n",
              " '',\n",
              " '',\n",
              " '',\n",
              " '',\n",
              " '',\n",
              " '',\n",
              " '',\n",
              " '',\n",
              " '',\n",
              " '',\n",
              " '',\n",
              " '',\n",
              " '',\n",
              " '',\n",
              " '',\n",
              " '',\n",
              " '',\n",
              " '',\n",
              " '',\n",
              " '',\n",
              " '',\n",
              " '',\n",
              " '',\n",
              " '',\n",
              " '',\n",
              " '',\n",
              " '',\n",
              " '',\n",
              " '',\n",
              " '',\n",
              " '',\n",
              " '',\n",
              " '',\n",
              " '',\n",
              " '',\n",
              " '',\n",
              " '',\n",
              " '',\n",
              " '',\n",
              " '',\n",
              " '',\n",
              " '',\n",
              " '',\n",
              " '',\n",
              " '',\n",
              " '',\n",
              " '',\n",
              " '',\n",
              " '',\n",
              " '',\n",
              " '',\n",
              " '',\n",
              " '',\n",
              " '',\n",
              " '',\n",
              " '',\n",
              " '',\n",
              " '',\n",
              " '',\n",
              " '',\n",
              " '',\n",
              " '',\n",
              " '',\n",
              " '',\n",
              " '',\n",
              " '',\n",
              " '',\n",
              " '',\n",
              " '',\n",
              " '',\n",
              " '',\n",
              " '',\n",
              " '',\n",
              " '',\n",
              " '',\n",
              " '',\n",
              " '',\n",
              " '',\n",
              " '',\n",
              " '',\n",
              " '',\n",
              " '',\n",
              " '',\n",
              " '',\n",
              " '',\n",
              " '',\n",
              " '',\n",
              " '',\n",
              " '',\n",
              " '',\n",
              " '',\n",
              " '']"
            ]
          },
          "metadata": {},
          "execution_count": 67
        }
      ]
    },
    {
      "cell_type": "code",
      "source": [
        "tr_ip.y_out"
      ],
      "metadata": {
        "id": "VdAPxpDwd2tL",
        "outputId": "386ba36d-ee2b-4454-c445-12e43311afee",
        "colab": {
          "base_uri": "https://localhost:8080/"
        }
      },
      "execution_count": null,
      "outputs": [
        {
          "output_type": "execute_result",
          "data": {
            "text/plain": [
              "array([[[0., 0., 0., ..., 0., 0., 0.]],\n",
              "\n",
              "       [[0., 0., 0., ..., 0., 0., 0.]],\n",
              "\n",
              "       [[0., 0., 0., ..., 0., 0., 1.]],\n",
              "\n",
              "       ...,\n",
              "\n",
              "       [[0., 0., 0., ..., 0., 0., 1.]],\n",
              "\n",
              "       [[0., 0., 0., ..., 0., 0., 0.]],\n",
              "\n",
              "       [[0., 0., 0., ..., 0., 0., 1.]]])"
            ]
          },
          "metadata": {},
          "execution_count": 74
        }
      ]
    },
    {
      "cell_type": "code",
      "source": [
        "s=\"is the heart larger than normal no no no no no no no no no no no no no no no no no\".split(\" \")"
      ],
      "metadata": {
        "id": "dMirsNrsJdlk"
      },
      "execution_count": null,
      "outputs": []
    },
    {
      "cell_type": "code",
      "source": [
        "len(s)"
      ],
      "metadata": {
        "id": "9tkY_1UIJhxI",
        "outputId": "f0e9132d-cf51-47ed-d3ce-fd6e0395868f",
        "colab": {
          "base_uri": "https://localhost:8080/"
        }
      },
      "execution_count": null,
      "outputs": [
        {
          "output_type": "execute_result",
          "data": {
            "text/plain": [
              "23"
            ]
          },
          "metadata": {},
          "execution_count": 77
        }
      ]
    },
    {
      "cell_type": "code",
      "source": [
        "ops"
      ],
      "metadata": {
        "id": "l9eb_XoPG4ON",
        "outputId": "6f7459c9-e3c2-4b64-f9b2-ec8b26f14924",
        "colab": {
          "base_uri": "https://localhost:8080/"
        }
      },
      "execution_count": null,
      "outputs": [
        {
          "output_type": "execute_result",
          "data": {
            "text/plain": [
              "[]"
            ]
          },
          "metadata": {},
          "execution_count": 34
        }
      ]
    },
    {
      "cell_type": "code",
      "source": [
        "dictionary.token_dc[637]"
      ],
      "metadata": {
        "colab": {
          "base_uri": "https://localhost:8080/",
          "height": 36
        },
        "id": "G0-V6WozY6jB",
        "outputId": "26cd8fc7-67ba-4733-f1f0-c0bbd2f72f86"
      },
      "execution_count": null,
      "outputs": [
        {
          "output_type": "execute_result",
          "data": {
            "text/plain": [
              "'<stop>'"
            ],
            "application/vnd.google.colaboratory.intrinsic+json": {
              "type": "string"
            }
          },
          "metadata": {},
          "execution_count": 76
        }
      ]
    },
    {
      "cell_type": "code",
      "source": [
        "df_test=pd.read_csv(\"./VQA_RAD/test.csv\", sep='|')\n"
      ],
      "metadata": {
        "id": "iwoG4n0f5DnG"
      },
      "execution_count": null,
      "outputs": []
    },
    {
      "cell_type": "code",
      "source": [
        "op=op_gen(m,df_test['IMAGEID'].iloc[1],df_test['QUESTION'].iloc[1],dictionary.mxlenp,dictionary.mxlen)"
      ],
      "metadata": {
        "colab": {
          "base_uri": "https://localhost:8080/"
        },
        "id": "HJLIAwHyXUhb",
        "outputId": "4126b084-6bd2-4653-aa6e-d9637088526b"
      },
      "execution_count": null,
      "outputs": [
        {
          "output_type": "stream",
          "name": "stdout",
          "text": [
            "1/1 [==============================] - 0s 48ms/step\n",
            "hi\n"
          ]
        }
      ]
    },
    {
      "cell_type": "code",
      "source": [
        "m.save(\"vqa_rad_model\")\n"
      ],
      "metadata": {
        "colab": {
          "base_uri": "https://localhost:8080/"
        },
        "id": "zjrSIePVkIFf",
        "outputId": "84530351-9e45-43b6-d059-964604340eba"
      },
      "execution_count": null,
      "outputs": [
        {
          "output_type": "stream",
          "name": "stderr",
          "text": [
            "WARNING:absl:Found untraced functions such as _update_step_xla, lstm_cell_layer_call_fn, lstm_cell_layer_call_and_return_conditional_losses, lstm_cell_1_layer_call_fn, lstm_cell_1_layer_call_and_return_conditional_losses while saving (showing 5 of 9). These functions will not be directly callable after loading.\n"
          ]
        }
      ]
    },
    {
      "cell_type": "code",
      "source": [
        "import shutil\n",
        "shutil.make_archive('vqa_model', 'zip', '/vqa_rad_model/')"
      ],
      "metadata": {
        "colab": {
          "base_uri": "https://localhost:8080/",
          "height": 36
        },
        "id": "h3e2BFBZtPuB",
        "outputId": "80b1fe05-cd69-48ee-dd63-3fb13377c1e2"
      },
      "execution_count": null,
      "outputs": [
        {
          "output_type": "execute_result",
          "data": {
            "text/plain": [
              "'/content/vqa_model.zip'"
            ],
            "application/vnd.google.colaboratory.intrinsic+json": {
              "type": "string"
            }
          },
          "metadata": {},
          "execution_count": 42
        }
      ]
    },
    {
      "cell_type": "code",
      "source": [
        "from google.colab import files\n",
        "files.download(\"/content/vqa_model.zip\")"
      ],
      "metadata": {
        "colab": {
          "base_uri": "https://localhost:8080/",
          "height": 17
        },
        "id": "aMdxKQDXtaF9",
        "outputId": "2200d532-1866-4718-8312-850b30aa28e6"
      },
      "execution_count": null,
      "outputs": [
        {
          "output_type": "display_data",
          "data": {
            "text/plain": [
              "<IPython.core.display.Javascript object>"
            ],
            "application/javascript": [
              "\n",
              "    async function download(id, filename, size) {\n",
              "      if (!google.colab.kernel.accessAllowed) {\n",
              "        return;\n",
              "      }\n",
              "      const div = document.createElement('div');\n",
              "      const label = document.createElement('label');\n",
              "      label.textContent = `Downloading \"${filename}\": `;\n",
              "      div.appendChild(label);\n",
              "      const progress = document.createElement('progress');\n",
              "      progress.max = size;\n",
              "      div.appendChild(progress);\n",
              "      document.body.appendChild(div);\n",
              "\n",
              "      const buffers = [];\n",
              "      let downloaded = 0;\n",
              "\n",
              "      const channel = await google.colab.kernel.comms.open(id);\n",
              "      // Send a message to notify the kernel that we're ready.\n",
              "      channel.send({})\n",
              "\n",
              "      for await (const message of channel.messages) {\n",
              "        // Send a message to notify the kernel that we're ready.\n",
              "        channel.send({})\n",
              "        if (message.buffers) {\n",
              "          for (const buffer of message.buffers) {\n",
              "            buffers.push(buffer);\n",
              "            downloaded += buffer.byteLength;\n",
              "            progress.value = downloaded;\n",
              "          }\n",
              "        }\n",
              "      }\n",
              "      const blob = new Blob(buffers, {type: 'application/binary'});\n",
              "      const a = document.createElement('a');\n",
              "      a.href = window.URL.createObjectURL(blob);\n",
              "      a.download = filename;\n",
              "      div.appendChild(a);\n",
              "      a.click();\n",
              "      div.remove();\n",
              "    }\n",
              "  "
            ]
          },
          "metadata": {}
        },
        {
          "output_type": "display_data",
          "data": {
            "text/plain": [
              "<IPython.core.display.Javascript object>"
            ],
            "application/javascript": [
              "download(\"download_3ded3a2c-c5e4-4c78-bc75-c1b328442c52\", \"vqa_model.zip\", 22)"
            ]
          },
          "metadata": {}
        }
      ]
    },
    {
      "cell_type": "code",
      "source": [
        "!mkdir model_weights"
      ],
      "metadata": {
        "id": "zqaEIb3jsbY7"
      },
      "execution_count": null,
      "outputs": []
    },
    {
      "cell_type": "code",
      "source": [
        "m.save_weights(\"model_weights/vqa_model_wts\")"
      ],
      "metadata": {
        "id": "0F__I5qlqSwN"
      },
      "execution_count": null,
      "outputs": []
    },
    {
      "cell_type": "code",
      "source": [
        "import shutil\n",
        "shutil.make_archive('model_weights', 'zip', '/model_weights/')"
      ],
      "metadata": {
        "colab": {
          "base_uri": "https://localhost:8080/",
          "height": 36
        },
        "id": "jGQGmq4HrV3_",
        "outputId": "6b84cf8c-5732-4e00-ed55-461baf55d915"
      },
      "execution_count": null,
      "outputs": [
        {
          "output_type": "execute_result",
          "data": {
            "text/plain": [
              "'/content/model_weights.zip'"
            ],
            "application/vnd.google.colaboratory.intrinsic+json": {
              "type": "string"
            }
          },
          "metadata": {},
          "execution_count": 39
        }
      ]
    },
    {
      "cell_type": "code",
      "source": [
        "from google.colab import files\n",
        "files.download(\"/content/model_weights.zip\")"
      ],
      "metadata": {
        "colab": {
          "base_uri": "https://localhost:8080/",
          "height": 17
        },
        "id": "oLWbp5yhtA8w",
        "outputId": "4106ee22-d0bb-405d-d1dc-f332be442919"
      },
      "execution_count": null,
      "outputs": [
        {
          "output_type": "display_data",
          "data": {
            "text/plain": [
              "<IPython.core.display.Javascript object>"
            ],
            "application/javascript": [
              "\n",
              "    async function download(id, filename, size) {\n",
              "      if (!google.colab.kernel.accessAllowed) {\n",
              "        return;\n",
              "      }\n",
              "      const div = document.createElement('div');\n",
              "      const label = document.createElement('label');\n",
              "      label.textContent = `Downloading \"${filename}\": `;\n",
              "      div.appendChild(label);\n",
              "      const progress = document.createElement('progress');\n",
              "      progress.max = size;\n",
              "      div.appendChild(progress);\n",
              "      document.body.appendChild(div);\n",
              "\n",
              "      const buffers = [];\n",
              "      let downloaded = 0;\n",
              "\n",
              "      const channel = await google.colab.kernel.comms.open(id);\n",
              "      // Send a message to notify the kernel that we're ready.\n",
              "      channel.send({})\n",
              "\n",
              "      for await (const message of channel.messages) {\n",
              "        // Send a message to notify the kernel that we're ready.\n",
              "        channel.send({})\n",
              "        if (message.buffers) {\n",
              "          for (const buffer of message.buffers) {\n",
              "            buffers.push(buffer);\n",
              "            downloaded += buffer.byteLength;\n",
              "            progress.value = downloaded;\n",
              "          }\n",
              "        }\n",
              "      }\n",
              "      const blob = new Blob(buffers, {type: 'application/binary'});\n",
              "      const a = document.createElement('a');\n",
              "      a.href = window.URL.createObjectURL(blob);\n",
              "      a.download = filename;\n",
              "      div.appendChild(a);\n",
              "      a.click();\n",
              "      div.remove();\n",
              "    }\n",
              "  "
            ]
          },
          "metadata": {}
        },
        {
          "output_type": "display_data",
          "data": {
            "text/plain": [
              "<IPython.core.display.Javascript object>"
            ],
            "application/javascript": [
              "download(\"download_e7569064-e1da-49bc-8bd3-669ca2aba284\", \"model_weights.zip\", 22)"
            ]
          },
          "metadata": {}
        }
      ]
    }
  ]
}